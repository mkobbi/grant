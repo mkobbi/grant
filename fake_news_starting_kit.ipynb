{
 "cells": [
  {
   "cell_type": "code",
   "execution_count": 0,
   "metadata": {
    "id": "2Zb9vScvw2ap",
    "colab_type": "code",
    "colab": {
     "autoexec": {
      "startup": false,
      "wait_interval": 0.0
     }
    }
   },
   "outputs": [],
   "source": [
    "from __future__ import unicode_literals\n",
    "from sklearn.pipeline import Pipeline\n",
    "from sklearn.decomposition import SparsePCA\n",
    "from sklearn.model_selection import train_test_split\n",
    "from sklearn.preprocessing import normalize\n",
    "from sklearn.metrics import accuracy_score\n",
    "from sklearn.svm import SVC\n",
    "import pandas as pd\n",
    "import numpy as np\n",
    "import unicodedata\n",
    "import nltk\n",
    "import scipy\n",
    "import urllib\n",
    "%matplotlib inline"
   ]
  },
  {
   "cell_type": "code",
   "execution_count": 2,
   "metadata": {
    "id": "QQi_AmZSaA0V",
    "colab_type": "code",
    "colab": {
     "autoexec": {
      "startup": false,
      "wait_interval": 0.0
     },
     "output_extras": [
      {
       "item_id": 24.0
      },
      {
       "item_id": 25.0
      }
     ],
     "base_uri": "https://localhost:8080/",
     "height": 918.0
    },
    "outputId": "1d705ec2-8fcb-477e-c9e5-d6f616895b81",
    "executionInfo": {
     "status": "ok",
     "timestamp": 1.517335198058E12,
     "user_tz": -60.0,
     "elapsed": 10834.0,
     "user": {
      "displayName": "Mariano MS",
      "photoUrl": "//lh5.googleusercontent.com/-afiZ8sYBTk4/AAAAAAAAAAI/AAAAAAAAACI/ZcSnTgDyP8Y/s50-c-k-no/photo.jpg",
      "userId": "108192289572975408621"
     }
    }
   },
   "outputs": [
    {
     "name": "stdout",
     "output_type": "stream",
     "text": [
      "[nltk_data] Downloading collection 'popular'\n",
      "[nltk_data]    | \n",
      "[nltk_data]    | Downloading package cmudict to /content/nltk_data...\n",
      "[nltk_data]    |   Unzipping corpora/cmudict.zip.\n",
      "[nltk_data]    | Downloading package gazetteers to\n",
      "[nltk_data]    |     /content/nltk_data...\n",
      "[nltk_data]    |   Unzipping corpora/gazetteers.zip.\n",
      "[nltk_data]    | Downloading package genesis to /content/nltk_data...\n",
      "[nltk_data]    |   Unzipping corpora/genesis.zip.\n",
      "[nltk_data]    | Downloading package gutenberg to\n",
      "[nltk_data]    |     /content/nltk_data...\n",
      "[nltk_data]    |   Unzipping corpora/gutenberg.zip.\n",
      "[nltk_data]    | Downloading package inaugural to\n",
      "[nltk_data]    |     /content/nltk_data...\n",
      "[nltk_data]    |   Unzipping corpora/inaugural.zip.\n",
      "[nltk_data]    | Downloading package movie_reviews to\n",
      "[nltk_data]    |     /content/nltk_data...\n",
      "[nltk_data]    |   Unzipping corpora/movie_reviews.zip.\n",
      "[nltk_data]    | Downloading package names to /content/nltk_data...\n",
      "[nltk_data]    |   Unzipping corpora/names.zip.\n",
      "[nltk_data]    | Downloading package shakespeare to\n",
      "[nltk_data]    |     /content/nltk_data...\n",
      "[nltk_data]    |   Unzipping corpora/shakespeare.zip.\n",
      "[nltk_data]    | Downloading package stopwords to\n",
      "[nltk_data]    |     /content/nltk_data...\n",
      "[nltk_data]    |   Unzipping corpora/stopwords.zip.\n",
      "[nltk_data]    | Downloading package treebank to /content/nltk_data...\n",
      "[nltk_data]    |   Unzipping corpora/treebank.zip.\n",
      "[nltk_data]    | Downloading package twitter_samples to\n",
      "[nltk_data]    |     /content/nltk_data...\n",
      "[nltk_data]    |   Unzipping corpora/twitter_samples.zip.\n",
      "[nltk_data]    | Downloading package omw to /content/nltk_data...\n",
      "[nltk_data]    |   Unzipping corpora/omw.zip.\n",
      "[nltk_data]    | Downloading package wordnet to /content/nltk_data...\n",
      "[nltk_data]    |   Unzipping corpora/wordnet.zip.\n",
      "[nltk_data]    | Downloading package wordnet_ic to\n",
      "[nltk_data]    |     /content/nltk_data...\n",
      "[nltk_data]    |   Unzipping corpora/wordnet_ic.zip.\n",
      "[nltk_data]    | Downloading package words to /content/nltk_data...\n",
      "[nltk_data]    |   Unzipping corpora/words.zip.\n",
      "[nltk_data]    | Downloading package maxent_ne_chunker to\n",
      "[nltk_data]    |     /content/nltk_data...\n",
      "[nltk_data]    |   Unzipping chunkers/maxent_ne_chunker.zip.\n",
      "[nltk_data]    | Downloading package punkt to /content/nltk_data...\n",
      "[nltk_data]    |   Unzipping tokenizers/punkt.zip.\n",
      "[nltk_data]    | Downloading package snowball_data to\n",
      "[nltk_data]    |     /content/nltk_data...\n",
      "[nltk_data]    | Downloading package averaged_perceptron_tagger to\n",
      "[nltk_data]    |     /content/nltk_data...\n",
      "[nltk_data]    |   Unzipping taggers/averaged_perceptron_tagger.zip.\n",
      "[nltk_data]    | \n",
      "[nltk_data]  Done downloading collection popular\n"
     ]
    },
    {
     "data": {
      "text/plain": [
       "True"
      ]
     },
     "execution_count": 2,
     "metadata": {
      "tags": []
     },
     "output_type": "execute_result"
    }
   ],
   "source": [
    "nltk.download(\"popular\")"
   ]
  },
  {
   "cell_type": "markdown",
   "metadata": {
    "id": "OUuS7PQqIh2L",
    "colab_type": "text"
   },
   "source": [
    "## Exploratory data analysis"
   ]
  },
  {
   "cell_type": "markdown",
   "metadata": {
    "id": "IpmgEKxZIlDQ",
    "colab_type": "text"
   },
   "source": [
    "###Loading the data"
   ]
  },
  {
   "cell_type": "code",
   "execution_count": 0,
   "metadata": {
    "id": "CLFG9oULFFWX",
    "colab_type": "code",
    "colab": {
     "autoexec": {
      "startup": false,
      "wait_interval": 0.0
     }
    }
   },
   "outputs": [],
   "source": [
    "#url = \"https://raw.githubusercontent.com/mkobbi/subvention-status-datacamp/master/data/subventions-accordees-et-refusees.csv\"\n",
    "#url_departements = \"http://sql.sh/ressources/sql-departement-france/departement.csv\"\n",
    "#data = pd.read_csv(url, sep=\";\")\n",
    "train_filename = 'data/train.csv'\n",
    "train = pd.read_csv(train_filename, sep=';')\n",
    "test = pd.read_csv('data/test.csv', sep=';')\n",
    "frames = [train, test]\n",
    "data = pd.concat(frames, axis=0)\n",
    "fr_stopwords_url = \"https://raw.githubusercontent.com/mkobbi/subvention-status-datacamp/master/data/stopwords-filter-fr.txt\"\n",
    "#departements = pd.read_csv(url_departements, sep=\",\", names=[\"code\",\"full_name\"], usecols=[0,3])#[[\"full_name\",\"code\"]]\n",
    "#departements.set_index(\"full_name\").to_dict()[\"code\"]"
   ]
  },
  {
   "cell_type": "code",
   "execution_count": 4,
   "metadata": {
    "id": "ct6QRKb3323V",
    "colab_type": "code",
    "colab": {
     "autoexec": {
      "startup": false,
      "wait_interval": 0.0
     },
     "output_extras": [
      {
       "item_id": 1.0
      }
     ],
     "base_uri": "https://localhost:8080/",
     "height": 459.0
    },
    "outputId": "b69129f8-26ac-4782-83c7-cdbeb9f062b3",
    "executionInfo": {
     "status": "ok",
     "timestamp": 1.517335222917E12,
     "user_tz": -60.0,
     "elapsed": 1244.0,
     "user": {
      "displayName": "Mariano MS",
      "photoUrl": "//lh5.googleusercontent.com/-afiZ8sYBTk4/AAAAAAAAAAI/AAAAAAAAACI/ZcSnTgDyP8Y/s50-c-k-no/photo.jpg",
      "userId": "108192289572975408621"
     }
    }
   },
   "outputs": [
    {
     "data": {
      "text/html": [
       "<div>\n",
       "<style scoped>\n",
       "    .dataframe tbody tr th:only-of-type {\n",
       "        vertical-align: middle;\n",
       "    }\n",
       "\n",
       "    .dataframe tbody tr th {\n",
       "        vertical-align: top;\n",
       "    }\n",
       "\n",
       "    .dataframe thead th {\n",
       "        text-align: right;\n",
       "    }\n",
       "</style>\n",
       "<table border=\"1\" class=\"dataframe\">\n",
       "  <thead>\n",
       "    <tr style=\"text-align: right;\">\n",
       "      <th></th>\n",
       "      <th>Nom du partenaire</th>\n",
       "      <th>Intitulé de la demande</th>\n",
       "      <th>Appel à projets</th>\n",
       "      <th>Montant voté par demande</th>\n",
       "      <th>Fonctionnement</th>\n",
       "      <th>Subventions sur projet</th>\n",
       "      <th>Subventions d'équipement</th>\n",
       "      <th>Subventions sans nature spécifiée</th>\n",
       "      <th>CP-Adresse-Code postal</th>\n",
       "      <th>Appel à projets PolVille</th>\n",
       "      <th>S-DE-Montant demandé</th>\n",
       "      <th>Total voté</th>\n",
       "    </tr>\n",
       "  </thead>\n",
       "  <tbody>\n",
       "    <tr>\n",
       "      <th>0</th>\n",
       "      <td>3791</td>\n",
       "      <td>FONCTIONNEMENT 2013</td>\n",
       "      <td>0</td>\n",
       "      <td>183622.0</td>\n",
       "      <td>183622.0</td>\n",
       "      <td>0.0</td>\n",
       "      <td>0.0</td>\n",
       "      <td>0.0</td>\n",
       "      <td>75014</td>\n",
       "      <td>0</td>\n",
       "      <td>184782.0</td>\n",
       "      <td>183622.0</td>\n",
       "    </tr>\n",
       "    <tr>\n",
       "      <th>1</th>\n",
       "      <td>3792</td>\n",
       "      <td>SUBVENTION DE FONCTIONNEMENT MAISON DES CONTES...</td>\n",
       "      <td>0</td>\n",
       "      <td>1500.0</td>\n",
       "      <td>1500.0</td>\n",
       "      <td>0.0</td>\n",
       "      <td>0.0</td>\n",
       "      <td>0.0</td>\n",
       "      <td>75004</td>\n",
       "      <td>0</td>\n",
       "      <td>10000.0</td>\n",
       "      <td>1500.0</td>\n",
       "    </tr>\n",
       "    <tr>\n",
       "      <th>2</th>\n",
       "      <td>3796</td>\n",
       "      <td>ACCOMPAGNEMENT AU PASSAGE DU CODE DU PERMIS B ...</td>\n",
       "      <td>0</td>\n",
       "      <td>11000.0</td>\n",
       "      <td>0.0</td>\n",
       "      <td>11000.0</td>\n",
       "      <td>0.0</td>\n",
       "      <td>0.0</td>\n",
       "      <td>75010</td>\n",
       "      <td>1</td>\n",
       "      <td>13500.0</td>\n",
       "      <td>11000.0</td>\n",
       "    </tr>\n",
       "    <tr>\n",
       "      <th>3</th>\n",
       "      <td>3796</td>\n",
       "      <td>AIDE DEGRESSIVE AU DEMARRAGE DE LA REGIE DE QU...</td>\n",
       "      <td>0</td>\n",
       "      <td>20000.0</td>\n",
       "      <td>20000.0</td>\n",
       "      <td>0.0</td>\n",
       "      <td>0.0</td>\n",
       "      <td>0.0</td>\n",
       "      <td>75010</td>\n",
       "      <td>0</td>\n",
       "      <td>30000.0</td>\n",
       "      <td>20000.0</td>\n",
       "    </tr>\n",
       "    <tr>\n",
       "      <th>4</th>\n",
       "      <td>3902</td>\n",
       "      <td>DEMANDE DE SUBVENTION D AIDE AU FONCTIONNEMENT...</td>\n",
       "      <td>0</td>\n",
       "      <td>2000.0</td>\n",
       "      <td>2000.0</td>\n",
       "      <td>0.0</td>\n",
       "      <td>0.0</td>\n",
       "      <td>0.0</td>\n",
       "      <td>75004</td>\n",
       "      <td>0</td>\n",
       "      <td>4750.0</td>\n",
       "      <td>2000.0</td>\n",
       "    </tr>\n",
       "  </tbody>\n",
       "</table>\n",
       "</div>"
      ],
      "text/plain": [
       "   Nom du partenaire                             Intitulé de la demande  \\\n",
       "0               3791                                FONCTIONNEMENT 2013   \n",
       "1               3792  SUBVENTION DE FONCTIONNEMENT MAISON DES CONTES...   \n",
       "2               3796  ACCOMPAGNEMENT AU PASSAGE DU CODE DU PERMIS B ...   \n",
       "3               3796  AIDE DEGRESSIVE AU DEMARRAGE DE LA REGIE DE QU...   \n",
       "4               3902  DEMANDE DE SUBVENTION D AIDE AU FONCTIONNEMENT...   \n",
       "\n",
       "   Appel à projets  Montant voté par demande  Fonctionnement  \\\n",
       "0                0                  183622.0        183622.0   \n",
       "1                0                    1500.0          1500.0   \n",
       "2                0                   11000.0             0.0   \n",
       "3                0                   20000.0         20000.0   \n",
       "4                0                    2000.0          2000.0   \n",
       "\n",
       "   Subventions sur projet  Subventions d'équipement  \\\n",
       "0                     0.0                       0.0   \n",
       "1                     0.0                       0.0   \n",
       "2                 11000.0                       0.0   \n",
       "3                     0.0                       0.0   \n",
       "4                     0.0                       0.0   \n",
       "\n",
       "   Subventions sans nature spécifiée  CP-Adresse-Code postal  \\\n",
       "0                                0.0                   75014   \n",
       "1                                0.0                   75004   \n",
       "2                                0.0                   75010   \n",
       "3                                0.0                   75010   \n",
       "4                                0.0                   75004   \n",
       "\n",
       "   Appel à projets PolVille  S-DE-Montant demandé  Total voté  \n",
       "0                         0              184782.0    183622.0  \n",
       "1                         0               10000.0      1500.0  \n",
       "2                         1               13500.0     11000.0  \n",
       "3                         0               30000.0     20000.0  \n",
       "4                         0                4750.0      2000.0  "
      ]
     },
     "execution_count": 4,
     "metadata": {
      "tags": []
     },
     "output_type": "execute_result"
    }
   ],
   "source": [
    "string_columns = [\"Nom du partenaire\", \"Intitulé de la demande\"]\n",
    "to_drop_columns = [\"Année\", \"Siret\", \"N° SIMPA\",\"CP-Adresse-Libellé voie\", \"CP-Adresse-Ville\"] #CP-Adresse-Ville se vota porque da la misma informacion que la columna CP-Adresse-Code postal\n",
    "str_categorical_columns = [\"Nom du partenaire\", \"Appel à projets\",\"Appel à projets PolVille\"]\n",
    "#num_categorical_columns = [\"Année\", \"CP-Adresse-Code postal\"]\n",
    "num_categorical_columns = [\"CP-Adresse-Code postal\"]\n",
    "#data['Année'] = pd.to_datetime(data['Année'])\n",
    "data = data.fillna(value=0,axis='columns')\n",
    "data[string_columns] = data[string_columns].apply(lambda x: x.str.upper().str.normalize('NFKD').str.encode('ascii', errors='ignore').str.decode('utf-8'))\n",
    "data[str_categorical_columns] = data[str_categorical_columns].apply(lambda x: x.astype('category').cat.codes)\n",
    "data[num_categorical_columns] = data[num_categorical_columns].apply(lambda x: x.astype('int'))#.astype('category'))\n",
    "fr_stopwords = urllib.request.urlopen(fr_stopwords_url).read().decode(\"utf-8\").upper()\n",
    "fr_stopwords = fr_stopwords.split(\"\\n\")\n",
    "#print(fr_stopwords)\n",
    "data = data.drop(to_drop_columns, axis='columns')\n",
    "data.head()\n"
   ]
  },
  {
   "cell_type": "code",
   "execution_count": 0,
   "metadata": {
    "id": "RtY_MAMZOvFk",
    "colab_type": "code",
    "colab": {
     "autoexec": {
      "startup": false,
      "wait_interval": 0.0
     }
    }
   },
   "outputs": [],
   "source": [
    "print(np.unique(data['Nom du partenaire']))\n",
    "print(len(np.unique(data['state'])))\n",
    "data.groupby('state').count()[['job']].sort_values(\n",
    "    'job', ascending=False).reset_index().rename(\n",
    "    columns={'job': 'count'}).plot.bar(\n",
    "    x='state', y='count', figsize=(16, 10), fontsize=18);"
   ]
  },
  {
   "cell_type": "code",
   "execution_count": 34,
   "metadata": {
    "id": "83HAFWBFN2o7",
    "colab_type": "code",
    "colab": {
     "autoexec": {
      "startup": false,
      "wait_interval": 0.0
     },
     "output_extras": [
      {
       "item_id": 1.0
      }
     ],
     "base_uri": "https://localhost:8080/",
     "height": 914.0
    },
    "outputId": "d338b266-2eaa-45b3-f359-7e3ba4804c12",
    "executionInfo": {
     "status": "error",
     "timestamp": 1.517335051059E12,
     "user_tz": -60.0,
     "elapsed": 516.0,
     "user": {
      "displayName": "Mehdi Deboub",
      "photoUrl": "https://lh3.googleusercontent.com/a/default-user=s128",
      "userId": "100681901679161707676"
     }
    }
   },
   "outputs": [
    {
     "ename": "FileNotFoundError",
     "evalue": "ignored",
     "traceback": [
      "\u001b[0;31m---------------------------------------------------------------------------\u001b[0m",
      "\u001b[0;31mFileNotFoundError\u001b[0m                         Traceback (most recent call last)",
      "\u001b[0;32m<ipython-input-34-f98733f2632d>\u001b[0m in \u001b[0;36m<module>\u001b[0;34m()\u001b[0m\n\u001b[1;32m      1\u001b[0m \u001b[0mtrain_filename\u001b[0m \u001b[0;34m=\u001b[0m \u001b[0;34m'data/train.csv'\u001b[0m\u001b[0;34m\u001b[0m\u001b[0m\n\u001b[0;32m----> 2\u001b[0;31m \u001b[0mtrain\u001b[0m \u001b[0;34m=\u001b[0m \u001b[0mpd\u001b[0m\u001b[0;34m.\u001b[0m\u001b[0mread_csv\u001b[0m\u001b[0;34m(\u001b[0m\u001b[0mtrain_filename\u001b[0m\u001b[0;34m,\u001b[0m \u001b[0msep\u001b[0m\u001b[0;34m=\u001b[0m\u001b[0;34m'\\t'\u001b[0m\u001b[0;34m)\u001b[0m\u001b[0;34m\u001b[0m\u001b[0m\n\u001b[0m\u001b[1;32m      3\u001b[0m \u001b[0mtest\u001b[0m \u001b[0;34m=\u001b[0m \u001b[0mpd\u001b[0m\u001b[0;34m.\u001b[0m\u001b[0mread_csv\u001b[0m\u001b[0;34m(\u001b[0m\u001b[0;34m'data/test.csv'\u001b[0m\u001b[0;34m,\u001b[0m \u001b[0msep\u001b[0m\u001b[0;34m=\u001b[0m\u001b[0;34m'\\t'\u001b[0m\u001b[0;34m)\u001b[0m\u001b[0;34m\u001b[0m\u001b[0m\n\u001b[1;32m      4\u001b[0m \u001b[0mframes\u001b[0m \u001b[0;34m=\u001b[0m \u001b[0;34m[\u001b[0m\u001b[0mtrain\u001b[0m\u001b[0;34m,\u001b[0m \u001b[0mtest\u001b[0m\u001b[0;34m]\u001b[0m\u001b[0;34m\u001b[0m\u001b[0m\n\u001b[1;32m      5\u001b[0m \u001b[0mdata\u001b[0m \u001b[0;34m=\u001b[0m \u001b[0mpd\u001b[0m\u001b[0;34m.\u001b[0m\u001b[0mconcat\u001b[0m\u001b[0;34m(\u001b[0m\u001b[0mframes\u001b[0m\u001b[0;34m,\u001b[0m \u001b[0maxis\u001b[0m\u001b[0;34m=\u001b[0m\u001b[0;36m0\u001b[0m\u001b[0;34m)\u001b[0m\u001b[0;34m\u001b[0m\u001b[0m\n",
      "\u001b[0;32m/usr/local/lib/python3.6/dist-packages/pandas/io/parsers.py\u001b[0m in \u001b[0;36mparser_f\u001b[0;34m(filepath_or_buffer, sep, delimiter, header, names, index_col, usecols, squeeze, prefix, mangle_dupe_cols, dtype, engine, converters, true_values, false_values, skipinitialspace, skiprows, nrows, na_values, keep_default_na, na_filter, verbose, skip_blank_lines, parse_dates, infer_datetime_format, keep_date_col, date_parser, dayfirst, iterator, chunksize, compression, thousands, decimal, lineterminator, quotechar, quoting, escapechar, comment, encoding, dialect, tupleize_cols, error_bad_lines, warn_bad_lines, skipfooter, skip_footer, doublequote, delim_whitespace, as_recarray, compact_ints, use_unsigned, low_memory, buffer_lines, memory_map, float_precision)\u001b[0m\n\u001b[1;32m    707\u001b[0m                     skip_blank_lines=skip_blank_lines)\n\u001b[1;32m    708\u001b[0m \u001b[0;34m\u001b[0m\u001b[0m\n\u001b[0;32m--> 709\u001b[0;31m         \u001b[0;32mreturn\u001b[0m \u001b[0m_read\u001b[0m\u001b[0;34m(\u001b[0m\u001b[0mfilepath_or_buffer\u001b[0m\u001b[0;34m,\u001b[0m \u001b[0mkwds\u001b[0m\u001b[0;34m)\u001b[0m\u001b[0;34m\u001b[0m\u001b[0m\n\u001b[0m\u001b[1;32m    710\u001b[0m \u001b[0;34m\u001b[0m\u001b[0m\n\u001b[1;32m    711\u001b[0m     \u001b[0mparser_f\u001b[0m\u001b[0;34m.\u001b[0m\u001b[0m__name__\u001b[0m \u001b[0;34m=\u001b[0m \u001b[0mname\u001b[0m\u001b[0;34m\u001b[0m\u001b[0m\n",
      "\u001b[0;32m/usr/local/lib/python3.6/dist-packages/pandas/io/parsers.py\u001b[0m in \u001b[0;36m_read\u001b[0;34m(filepath_or_buffer, kwds)\u001b[0m\n\u001b[1;32m    447\u001b[0m \u001b[0;34m\u001b[0m\u001b[0m\n\u001b[1;32m    448\u001b[0m     \u001b[0;31m# Create the parser.\u001b[0m\u001b[0;34m\u001b[0m\u001b[0;34m\u001b[0m\u001b[0m\n\u001b[0;32m--> 449\u001b[0;31m     \u001b[0mparser\u001b[0m \u001b[0;34m=\u001b[0m \u001b[0mTextFileReader\u001b[0m\u001b[0;34m(\u001b[0m\u001b[0mfilepath_or_buffer\u001b[0m\u001b[0;34m,\u001b[0m \u001b[0;34m**\u001b[0m\u001b[0mkwds\u001b[0m\u001b[0;34m)\u001b[0m\u001b[0;34m\u001b[0m\u001b[0m\n\u001b[0m\u001b[1;32m    450\u001b[0m \u001b[0;34m\u001b[0m\u001b[0m\n\u001b[1;32m    451\u001b[0m     \u001b[0;32mif\u001b[0m \u001b[0mchunksize\u001b[0m \u001b[0;32mor\u001b[0m \u001b[0miterator\u001b[0m\u001b[0;34m:\u001b[0m\u001b[0;34m\u001b[0m\u001b[0m\n",
      "\u001b[0;32m/usr/local/lib/python3.6/dist-packages/pandas/io/parsers.py\u001b[0m in \u001b[0;36m__init__\u001b[0;34m(self, f, engine, **kwds)\u001b[0m\n\u001b[1;32m    816\u001b[0m             \u001b[0mself\u001b[0m\u001b[0;34m.\u001b[0m\u001b[0moptions\u001b[0m\u001b[0;34m[\u001b[0m\u001b[0;34m'has_index_names'\u001b[0m\u001b[0;34m]\u001b[0m \u001b[0;34m=\u001b[0m \u001b[0mkwds\u001b[0m\u001b[0;34m[\u001b[0m\u001b[0;34m'has_index_names'\u001b[0m\u001b[0;34m]\u001b[0m\u001b[0;34m\u001b[0m\u001b[0m\n\u001b[1;32m    817\u001b[0m \u001b[0;34m\u001b[0m\u001b[0m\n\u001b[0;32m--> 818\u001b[0;31m         \u001b[0mself\u001b[0m\u001b[0;34m.\u001b[0m\u001b[0m_make_engine\u001b[0m\u001b[0;34m(\u001b[0m\u001b[0mself\u001b[0m\u001b[0;34m.\u001b[0m\u001b[0mengine\u001b[0m\u001b[0;34m)\u001b[0m\u001b[0;34m\u001b[0m\u001b[0m\n\u001b[0m\u001b[1;32m    819\u001b[0m \u001b[0;34m\u001b[0m\u001b[0m\n\u001b[1;32m    820\u001b[0m     \u001b[0;32mdef\u001b[0m \u001b[0mclose\u001b[0m\u001b[0;34m(\u001b[0m\u001b[0mself\u001b[0m\u001b[0;34m)\u001b[0m\u001b[0;34m:\u001b[0m\u001b[0;34m\u001b[0m\u001b[0m\n",
      "\u001b[0;32m/usr/local/lib/python3.6/dist-packages/pandas/io/parsers.py\u001b[0m in \u001b[0;36m_make_engine\u001b[0;34m(self, engine)\u001b[0m\n\u001b[1;32m   1047\u001b[0m     \u001b[0;32mdef\u001b[0m \u001b[0m_make_engine\u001b[0m\u001b[0;34m(\u001b[0m\u001b[0mself\u001b[0m\u001b[0;34m,\u001b[0m \u001b[0mengine\u001b[0m\u001b[0;34m=\u001b[0m\u001b[0;34m'c'\u001b[0m\u001b[0;34m)\u001b[0m\u001b[0;34m:\u001b[0m\u001b[0;34m\u001b[0m\u001b[0m\n\u001b[1;32m   1048\u001b[0m         \u001b[0;32mif\u001b[0m \u001b[0mengine\u001b[0m \u001b[0;34m==\u001b[0m \u001b[0;34m'c'\u001b[0m\u001b[0;34m:\u001b[0m\u001b[0;34m\u001b[0m\u001b[0m\n\u001b[0;32m-> 1049\u001b[0;31m             \u001b[0mself\u001b[0m\u001b[0;34m.\u001b[0m\u001b[0m_engine\u001b[0m \u001b[0;34m=\u001b[0m \u001b[0mCParserWrapper\u001b[0m\u001b[0;34m(\u001b[0m\u001b[0mself\u001b[0m\u001b[0;34m.\u001b[0m\u001b[0mf\u001b[0m\u001b[0;34m,\u001b[0m \u001b[0;34m**\u001b[0m\u001b[0mself\u001b[0m\u001b[0;34m.\u001b[0m\u001b[0moptions\u001b[0m\u001b[0;34m)\u001b[0m\u001b[0;34m\u001b[0m\u001b[0m\n\u001b[0m\u001b[1;32m   1050\u001b[0m         \u001b[0;32melse\u001b[0m\u001b[0;34m:\u001b[0m\u001b[0;34m\u001b[0m\u001b[0m\n\u001b[1;32m   1051\u001b[0m             \u001b[0;32mif\u001b[0m \u001b[0mengine\u001b[0m \u001b[0;34m==\u001b[0m \u001b[0;34m'python'\u001b[0m\u001b[0;34m:\u001b[0m\u001b[0;34m\u001b[0m\u001b[0m\n",
      "\u001b[0;32m/usr/local/lib/python3.6/dist-packages/pandas/io/parsers.py\u001b[0m in \u001b[0;36m__init__\u001b[0;34m(self, src, **kwds)\u001b[0m\n\u001b[1;32m   1693\u001b[0m         \u001b[0mkwds\u001b[0m\u001b[0;34m[\u001b[0m\u001b[0;34m'allow_leading_cols'\u001b[0m\u001b[0;34m]\u001b[0m \u001b[0;34m=\u001b[0m \u001b[0mself\u001b[0m\u001b[0;34m.\u001b[0m\u001b[0mindex_col\u001b[0m \u001b[0;32mis\u001b[0m \u001b[0;32mnot\u001b[0m \u001b[0;32mFalse\u001b[0m\u001b[0;34m\u001b[0m\u001b[0m\n\u001b[1;32m   1694\u001b[0m \u001b[0;34m\u001b[0m\u001b[0m\n\u001b[0;32m-> 1695\u001b[0;31m         \u001b[0mself\u001b[0m\u001b[0;34m.\u001b[0m\u001b[0m_reader\u001b[0m \u001b[0;34m=\u001b[0m \u001b[0mparsers\u001b[0m\u001b[0;34m.\u001b[0m\u001b[0mTextReader\u001b[0m\u001b[0;34m(\u001b[0m\u001b[0msrc\u001b[0m\u001b[0;34m,\u001b[0m \u001b[0;34m**\u001b[0m\u001b[0mkwds\u001b[0m\u001b[0;34m)\u001b[0m\u001b[0;34m\u001b[0m\u001b[0m\n\u001b[0m\u001b[1;32m   1696\u001b[0m \u001b[0;34m\u001b[0m\u001b[0m\n\u001b[1;32m   1697\u001b[0m         \u001b[0;31m# XXX\u001b[0m\u001b[0;34m\u001b[0m\u001b[0;34m\u001b[0m\u001b[0m\n",
      "\u001b[0;32mpandas/_libs/parsers.pyx\u001b[0m in \u001b[0;36mpandas._libs.parsers.TextReader.__cinit__\u001b[0;34m()\u001b[0m\n",
      "\u001b[0;32mpandas/_libs/parsers.pyx\u001b[0m in \u001b[0;36mpandas._libs.parsers.TextReader._setup_parser_source\u001b[0;34m()\u001b[0m\n",
      "\u001b[0;31mFileNotFoundError\u001b[0m: File b'data/train.csv' does not exist"
     ],
     "output_type": "error"
    }
   ],
   "source": [
    "train_filename = 'data/train.csv'\n",
    "train = pd.read_csv(train_filename, sep=';')\n",
    "test = pd.read_csv('data/test.csv', sep=';')\n",
    "frames = [train, test]\n",
    "data = pd.concat(frames, axis=0)"
   ]
  },
  {
   "cell_type": "code",
   "execution_count": 5,
   "metadata": {
    "id": "JRmymxtU4Qxe",
    "colab_type": "code",
    "colab": {
     "autoexec": {
      "startup": false,
      "wait_interval": 0.0
     },
     "output_extras": [
      {
       "item_id": 1.0
      }
     ],
     "base_uri": "https://localhost:8080/",
     "height": 238.0
    },
    "outputId": "928c0f32-d212-4509-8a56-a3b5d79856d7",
    "executionInfo": {
     "status": "ok",
     "timestamp": 1.517334074458E12,
     "user_tz": -60.0,
     "elapsed": 443.0,
     "user": {
      "displayName": "Mahmoud Kobbi",
      "photoUrl": "https://lh3.googleusercontent.com/a/default-user=s128",
      "userId": "114952782155748457516"
     }
    }
   },
   "outputs": [
    {
     "data": {
      "text/plain": [
       "Nom du partenaire                      int16\n",
       "Intitulé de la demande                object\n",
       "Appel à projets                         int8\n",
       "Montant voté par demande             float64\n",
       "Fonctionnement                       float64\n",
       "Subventions sur projet               float64\n",
       "Subventions d'équipement             float64\n",
       "Subventions sans nature spécifiée    float64\n",
       "CP-Adresse-Code postal                 int64\n",
       "Appel à projets PolVille                int8\n",
       "S-DE-Montant demandé                 float64\n",
       "Total voté                           float64\n",
       "dtype: object"
      ]
     },
     "execution_count": 5,
     "metadata": {
      "tags": []
     },
     "output_type": "execute_result"
    }
   ],
   "source": [
    "data.dtypes"
   ]
  },
  {
   "cell_type": "code",
   "execution_count": 0,
   "metadata": {
    "id": "ajvlU1C1ghla",
    "colab_type": "code",
    "colab": {
     "autoexec": {
      "startup": false,
      "wait_interval": 0.0
     }
    }
   },
   "outputs": [],
   "source": [
    "from nltk.corpus import stopwords\n",
    "from nltk.stem.snowball import FrenchStemmer\n",
    "\n",
    "stemmer = FrenchStemmer()\n",
    "data['stemmed'] = data['Intitulé de la demande'].map(lambda x: ' '.join([stemmer.stem(y) for y in x.split(' ')]))\n",
    "#data.stemmed.head()"
   ]
  },
  {
   "cell_type": "code",
   "execution_count": 0,
   "metadata": {
    "id": "ZjNRJw8oieBB",
    "colab_type": "code",
    "colab": {
     "autoexec": {
      "startup": false,
      "wait_interval": 0.0
     }
    }
   },
   "outputs": [],
   "source": [
    "from sklearn.feature_extraction.text import TfidfVectorizer\n",
    "\n",
    "#cvec = CountVectorizer(stop_words='french', min_df=1, max_df=.5, ngram_range=(1,2))\n",
    "#cvec\n",
    "vect = TfidfVectorizer(norm='l2',min_df=0, max_df=1, use_idf=True, smooth_idf=True, \n",
    "                             sublinear_tf=True, stop_words=fr_stopwords, analyzer='word')\n",
    "words = vect.fit_transform(data.stemmed)\n",
    "words = pd.DataFrame(words.todense(),columns=vect.get_feature_names())\n",
    "data = pd.concat([data, words], axis='columns')\n",
    "data = data.drop([\"Intitulé de la demande\", \"stemmed\"],axis='columns')\n"
   ]
  },
  {
   "cell_type": "code",
   "execution_count": 0,
   "metadata": {
    "id": "DFoqUYQ97mEx",
    "colab_type": "code",
    "colab": {
     "autoexec": {
      "startup": false,
      "wait_interval": 0.0
     }
    }
   },
   "outputs": [],
   "source": [
    "#X = scipy.sparse.csr_matrix(data.values)\n",
    "X = normalize(scipy.sparse.csr_matrix(data.values))"
   ]
  },
  {
   "cell_type": "code",
   "execution_count": 0,
   "metadata": {
    "id": "pAS20qDDHdES",
    "colab_type": "code",
    "colab": {
     "autoexec": {
      "startup": false,
      "wait_interval": 0.0
     }
    }
   },
   "outputs": [],
   "source": [
    "y = np.ravel(pd.DataFrame([data[\"Total voté\"] > 0.0]).astype(int))"
   ]
  },
  {
   "cell_type": "code",
   "execution_count": 0,
   "metadata": {
    "id": "JmUuny8b-14Z",
    "colab_type": "code",
    "colab": {
     "autoexec": {
      "startup": false,
      "wait_interval": 0.0
     }
    }
   },
   "outputs": [],
   "source": [
    "X_train, X_test, y_train, y_test = train_test_split(X, y, test_size=0.1, random_state=42)"
   ]
  },
  {
   "cell_type": "markdown",
   "metadata": {
    "id": "7wwcku-tJrhd",
    "colab_type": "text"
   },
   "source": [
    "## Classifying"
   ]
  },
  {
   "cell_type": "code",
   "execution_count": 14,
   "metadata": {
    "id": "vfut30fvJiHU",
    "colab_type": "code",
    "colab": {
     "autoexec": {
      "startup": false,
      "wait_interval": 0.0
     },
     "output_extras": [
      {
       "item_id": 1.0
      }
     ],
     "base_uri": "https://localhost:8080/",
     "height": 34.0
    },
    "outputId": "df9f8d02-f8da-4e04-a508-bfa8362584b3",
    "executionInfo": {
     "status": "ok",
     "timestamp": 1.517334387372E12,
     "user_tz": -60.0,
     "elapsed": 9939.0,
     "user": {
      "displayName": "Mahmoud Kobbi",
      "photoUrl": "https://lh3.googleusercontent.com/a/default-user=s128",
      "userId": "114952782155748457516"
     }
    }
   },
   "outputs": [
    {
     "data": {
      "text/plain": [
       "array([1, 0, 0, ..., 1, 0, 1])"
      ]
     },
     "execution_count": 14,
     "metadata": {
      "tags": []
     },
     "output_type": "execute_result"
    }
   ],
   "source": [
    "clf = SVC(kernel = 'linear', class_weight = 'balanced', random_state = 42)\n",
    "clf.fit(X_train,y_train)\n",
    "y_pred = clf.predict(X_test)\n",
    "y_pred"
   ]
  },
  {
   "cell_type": "code",
   "execution_count": 15,
   "metadata": {
    "id": "1QNADnhIKeXX",
    "colab_type": "code",
    "colab": {
     "autoexec": {
      "startup": false,
      "wait_interval": 0.0
     },
     "output_extras": [
      {
       "item_id": 1.0
      }
     ],
     "base_uri": "https://localhost:8080/",
     "height": 34.0
    },
    "outputId": "18b12265-e857-4f3f-adb8-d70bad41554d",
    "executionInfo": {
     "status": "ok",
     "timestamp": 1.517334387872E12,
     "user_tz": -60.0,
     "elapsed": 468.0,
     "user": {
      "displayName": "Mahmoud Kobbi",
      "photoUrl": "https://lh3.googleusercontent.com/a/default-user=s128",
      "userId": "114952782155748457516"
     }
    }
   },
   "outputs": [
    {
     "data": {
      "text/plain": [
       "0.952054794520548"
      ]
     },
     "execution_count": 15,
     "metadata": {
      "tags": []
     },
     "output_type": "execute_result"
    }
   ],
   "source": [
    "accuracy_score(y_test,y_pred)"
   ]
  },
  {
   "cell_type": "code",
   "execution_count": 18,
   "metadata": {
    "id": "RhXsI9IzJAjf",
    "colab_type": "code",
    "colab": {
     "autoexec": {
      "startup": false,
      "wait_interval": 0.0
     },
     "output_extras": [
      {
       "item_id": 1.0
      }
     ],
     "base_uri": "https://localhost:8080/",
     "height": 331.0
    },
    "outputId": "4a008d65-6a78-4d80-8cc3-53b19d6d7399",
    "executionInfo": {
     "status": "ok",
     "timestamp": 1.517291563051E12,
     "user_tz": -60.0,
     "elapsed": 515.0,
     "user": {
      "displayName": "Mariano MS",
      "photoUrl": "//lh5.googleusercontent.com/-afiZ8sYBTk4/AAAAAAAAAAI/AAAAAAAAACI/ZcSnTgDyP8Y/s50-c-k-no/photo.jpg",
      "userId": "108192289572975408621"
     }
    }
   },
   "outputs": [
    {
     "data": {
      "text/html": [
       "<div>\n",
       "<style scoped>\n",
       "    .dataframe tbody tr th:only-of-type {\n",
       "        vertical-align: middle;\n",
       "    }\n",
       "\n",
       "    .dataframe tbody tr th {\n",
       "        vertical-align: top;\n",
       "    }\n",
       "\n",
       "    .dataframe thead th {\n",
       "        text-align: right;\n",
       "    }\n",
       "</style>\n",
       "<table border=\"1\" class=\"dataframe\">\n",
       "  <thead>\n",
       "    <tr style=\"text-align: right;\">\n",
       "      <th></th>\n",
       "      <th>Nom du partenaire</th>\n",
       "      <th>Appel à projets</th>\n",
       "      <th>Montant voté par demande</th>\n",
       "      <th>Fonctionnement</th>\n",
       "      <th>Subventions sur projet</th>\n",
       "      <th>Subventions d'équipement</th>\n",
       "      <th>Subventions sans nature spécifiée</th>\n",
       "      <th>Appel à projets PolVille</th>\n",
       "      <th>S-DE-Montant demandé</th>\n",
       "      <th>Total voté</th>\n",
       "    </tr>\n",
       "  </thead>\n",
       "  <tbody>\n",
       "    <tr>\n",
       "      <th>count</th>\n",
       "      <td>26273.000000</td>\n",
       "      <td>26273.000000</td>\n",
       "      <td>2.627300e+04</td>\n",
       "      <td>2.627300e+04</td>\n",
       "      <td>2.627300e+04</td>\n",
       "      <td>2.627300e+04</td>\n",
       "      <td>26273.000000</td>\n",
       "      <td>26273.000000</td>\n",
       "      <td>2.627300e+04</td>\n",
       "      <td>2.627300e+04</td>\n",
       "    </tr>\n",
       "    <tr>\n",
       "      <th>mean</th>\n",
       "      <td>2927.560499</td>\n",
       "      <td>0.390287</td>\n",
       "      <td>4.283378e+04</td>\n",
       "      <td>3.532798e+04</td>\n",
       "      <td>2.966839e+03</td>\n",
       "      <td>3.334278e+03</td>\n",
       "      <td>556.839303</td>\n",
       "      <td>0.177445</td>\n",
       "      <td>5.668498e+04</td>\n",
       "      <td>2.917313e+04</td>\n",
       "    </tr>\n",
       "    <tr>\n",
       "      <th>std</th>\n",
       "      <td>1745.030637</td>\n",
       "      <td>0.487824</td>\n",
       "      <td>4.137719e+05</td>\n",
       "      <td>3.929649e+05</td>\n",
       "      <td>4.238138e+04</td>\n",
       "      <td>8.094521e+04</td>\n",
       "      <td>13788.911899</td>\n",
       "      <td>0.382052</td>\n",
       "      <td>4.958573e+05</td>\n",
       "      <td>3.479400e+05</td>\n",
       "    </tr>\n",
       "    <tr>\n",
       "      <th>min</th>\n",
       "      <td>0.000000</td>\n",
       "      <td>0.000000</td>\n",
       "      <td>0.000000e+00</td>\n",
       "      <td>0.000000e+00</td>\n",
       "      <td>0.000000e+00</td>\n",
       "      <td>0.000000e+00</td>\n",
       "      <td>0.000000</td>\n",
       "      <td>0.000000</td>\n",
       "      <td>0.000000e+00</td>\n",
       "      <td>0.000000e+00</td>\n",
       "    </tr>\n",
       "    <tr>\n",
       "      <th>25%</th>\n",
       "      <td>1434.000000</td>\n",
       "      <td>0.000000</td>\n",
       "      <td>0.000000e+00</td>\n",
       "      <td>0.000000e+00</td>\n",
       "      <td>0.000000e+00</td>\n",
       "      <td>0.000000e+00</td>\n",
       "      <td>0.000000</td>\n",
       "      <td>0.000000</td>\n",
       "      <td>4.000000e+03</td>\n",
       "      <td>0.000000e+00</td>\n",
       "    </tr>\n",
       "    <tr>\n",
       "      <th>50%</th>\n",
       "      <td>2849.000000</td>\n",
       "      <td>0.000000</td>\n",
       "      <td>2.500000e+03</td>\n",
       "      <td>0.000000e+00</td>\n",
       "      <td>0.000000e+00</td>\n",
       "      <td>0.000000e+00</td>\n",
       "      <td>0.000000</td>\n",
       "      <td>0.000000</td>\n",
       "      <td>8.000000e+03</td>\n",
       "      <td>0.000000e+00</td>\n",
       "    </tr>\n",
       "    <tr>\n",
       "      <th>75%</th>\n",
       "      <td>4439.000000</td>\n",
       "      <td>1.000000</td>\n",
       "      <td>8.740000e+03</td>\n",
       "      <td>4.000000e+03</td>\n",
       "      <td>0.000000e+00</td>\n",
       "      <td>0.000000e+00</td>\n",
       "      <td>0.000000</td>\n",
       "      <td>0.000000</td>\n",
       "      <td>2.000000e+04</td>\n",
       "      <td>5.000000e+03</td>\n",
       "    </tr>\n",
       "    <tr>\n",
       "      <th>max</th>\n",
       "      <td>6068.000000</td>\n",
       "      <td>1.000000</td>\n",
       "      <td>1.744600e+07</td>\n",
       "      <td>1.744600e+07</td>\n",
       "      <td>5.947000e+06</td>\n",
       "      <td>7.599654e+06</td>\n",
       "      <td>1000000.000000</td>\n",
       "      <td>1.000000</td>\n",
       "      <td>3.915823e+07</td>\n",
       "      <td>1.744600e+07</td>\n",
       "    </tr>\n",
       "  </tbody>\n",
       "</table>\n",
       "</div>"
      ],
      "text/plain": [
       "       Nom du partenaire  Appel à projets  Montant voté par demande  \\\n",
       "count       26273.000000     26273.000000              2.627300e+04   \n",
       "mean         2927.560499         0.390287              4.283378e+04   \n",
       "std          1745.030637         0.487824              4.137719e+05   \n",
       "min             0.000000         0.000000              0.000000e+00   \n",
       "25%          1434.000000         0.000000              0.000000e+00   \n",
       "50%          2849.000000         0.000000              2.500000e+03   \n",
       "75%          4439.000000         1.000000              8.740000e+03   \n",
       "max          6068.000000         1.000000              1.744600e+07   \n",
       "\n",
       "       Fonctionnement  Subventions sur projet  Subventions d'équipement  \\\n",
       "count    2.627300e+04            2.627300e+04              2.627300e+04   \n",
       "mean     3.532798e+04            2.966839e+03              3.334278e+03   \n",
       "std      3.929649e+05            4.238138e+04              8.094521e+04   \n",
       "min      0.000000e+00            0.000000e+00              0.000000e+00   \n",
       "25%      0.000000e+00            0.000000e+00              0.000000e+00   \n",
       "50%      0.000000e+00            0.000000e+00              0.000000e+00   \n",
       "75%      4.000000e+03            0.000000e+00              0.000000e+00   \n",
       "max      1.744600e+07            5.947000e+06              7.599654e+06   \n",
       "\n",
       "       Subventions sans nature spécifiée  Appel à projets PolVille  \\\n",
       "count                       26273.000000              26273.000000   \n",
       "mean                          556.839303                  0.177445   \n",
       "std                         13788.911899                  0.382052   \n",
       "min                             0.000000                  0.000000   \n",
       "25%                             0.000000                  0.000000   \n",
       "50%                             0.000000                  0.000000   \n",
       "75%                             0.000000                  0.000000   \n",
       "max                       1000000.000000                  1.000000   \n",
       "\n",
       "       S-DE-Montant demandé    Total voté  \n",
       "count          2.627300e+04  2.627300e+04  \n",
       "mean           5.668498e+04  2.917313e+04  \n",
       "std            4.958573e+05  3.479400e+05  \n",
       "min            0.000000e+00  0.000000e+00  \n",
       "25%            4.000000e+03  0.000000e+00  \n",
       "50%            8.000000e+03  0.000000e+00  \n",
       "75%            2.000000e+04  5.000000e+03  \n",
       "max            3.915823e+07  1.744600e+07  "
      ]
     },
     "execution_count": 18,
     "metadata": {
      "tags": []
     },
     "output_type": "execute_result"
    }
   ],
   "source": [
    "data.describe()"
   ]
  },
  {
   "cell_type": "code",
   "execution_count": 9,
   "metadata": {
    "id": "CKXIcuwHQxKT",
    "colab_type": "code",
    "colab": {
     "autoexec": {
      "startup": false,
      "wait_interval": 0.0
     },
     "output_extras": [
      {
       "item_id": 1.0
      }
     ],
     "base_uri": "https://localhost:8080/",
     "height": 255.0
    },
    "outputId": "3efb9506-6a08-4482-f682-f6fb04aaf77f",
    "executionInfo": {
     "status": "ok",
     "timestamp": 1.517184939715E12,
     "user_tz": -60.0,
     "elapsed": 486.0,
     "user": {
      "displayName": "Mehdi Deboub",
      "photoUrl": "https://lh3.googleusercontent.com/a/default-user=s128",
      "userId": "100681901679161707676"
     }
    }
   },
   "outputs": [
    {
     "data": {
      "text/plain": [
       "Année                                26273\n",
       "Nom du partenaire                    26273\n",
       "Intitulé de la demande               26273\n",
       "Appel à projets                      26273\n",
       "Montant voté par demande             26273\n",
       "Fonctionnement                       26273\n",
       "Subventions sur projet               26273\n",
       "Subventions d'équipement             26273\n",
       "Subventions sans nature spécifiée    26273\n",
       "CP-Adresse-Code postal               26273\n",
       "Appel à projets PolVille             26273\n",
       "S-DE-Montant demandé                 26273\n",
       "Total voté                           26273\n",
       "dtype: int64"
      ]
     },
     "execution_count": 9,
     "metadata": {
      "tags": []
     },
     "output_type": "execute_result"
    }
   ],
   "source": [
    "data.count()"
   ]
  },
  {
   "cell_type": "markdown",
   "metadata": {
    "id": "djQZRvTSRk1h",
    "colab_type": "text"
   },
   "source": [
    "The dataset contains 26000+ instances mostly numericals and one categorical feature."
   ]
  }
 ],
 "metadata": {
  "colab": {
   "name": "jmamani_medeboub_mkobbi-data_camp.ipynb",
   "version": "0.3.2",
   "views": {},
   "default_view": {},
   "provenance": []
  },
  "kernelspec": {
   "name": "python3",
   "display_name": "Python 3"
  }
 },
 "nbformat": 4,
 "nbformat_minor": 0
}
