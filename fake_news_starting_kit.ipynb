{
 "cells": [
  {
   "cell_type": "markdown",
   "metadata": {},
   "source": [
    "# Problem presentation"
   ]
  },
  {
   "cell_type": "markdown",
   "metadata": {},
   "source": [
    "## Introduction"
   ]
  },
  {
   "cell_type": "markdown",
   "metadata": {},
   "source": [
    "List of relevant associations of 1 July 1901 on the association contract submitted for the 2013 budget year one or more grant applications from the City or Department of Paris.\n",
    "\n",
    "The grant applications submitted by non-associative organizations (SCOP, SCIC, scientific cooperation foundation, semi-public companies, public institutions, etc.) are not tracked. The financial aid allocated to the lines, the contributions, the contributions, the contributions, the contributions, the contributions, etc. are not also traced."
   ]
  },
  {
   "cell_type": "markdown",
   "metadata": {},
   "source": [
    "## Business problem overview"
   ]
  },
  {
   "cell_type": "markdown",
   "metadata": {},
   "source": [
    "The issue here is to predict wheteher some organization will recieve a grant from the Paris municiplaity.\n",
    "In fact, studying heavy and often complex dossiers is time consuming for the public agents. Moreover, it may quickly become a repetitve task.\n",
    "\n",
    "So, automatizing the analysis would save taxpayer euros. And since there are more than 35000 municipalities in France, the yet green market seems of reasonable size."
   ]
  },
  {
   "cell_type": "markdown",
   "metadata": {},
   "source": [
    "## Prediction Task"
   ]
  },
  {
   "cell_type": "markdown",
   "metadata": {},
   "source": [
    "Using the title of the project, information about the budget and the name of organization, we would to see if there are some patterns in the municiplaity's operating mode"
   ]
  },
  {
   "cell_type": "markdown",
   "metadata": {},
   "source": [
    "## Prediction Use"
   ]
  },
  {
   "cell_type": "markdown",
   "metadata": {},
   "source": [
    "If a pattern is confirmed, we could automatize the treatment of grant dossiers "
   ]
  },
  {
   "cell_type": "markdown",
   "metadata": {},
   "source": [
    "## Data"
   ]
  },
  {
   "cell_type": "markdown",
   "metadata": {},
   "source": [
    "In order to develop a classifier that predict and better understand wheter the municipality would grant him a loan or not we need to collect many data about how many loans that were granted and in which place for example, also the amount of the loan.\n",
    "\n",
    "In fact, all of these informations are publicly available through the Open Data Paris but the real challenging thing is how to transform this data into a something meaningful."
   ]
  },
  {
   "cell_type": "markdown",
   "metadata": {},
   "source": [
    "## Description of our dataset"
   ]
  },
  {
   "cell_type": "markdown",
   "metadata": {},
   "source": [
    "The original dataset can be found from this link: \n",
    "https://opendata.paris.fr/explore/dataset/subventions-accordees-et-refusees/information/\n",
    "The data we use for the challenge is also available in the directory \"data\" of our github repository: \n",
    "https://github.com/mkobbi/grant.git"
   ]
  },
  {
   "cell_type": "markdown",
   "metadata": {},
   "source": [
    "Available features:\n",
    "*   No. SIRET : SIRET number as declared by the association\n",
    "*   Address : Address of the registered office as stated in the SIMPA application on the basis of a receipt in the prefecture or a publication in the Official Journal of the French Republic\n",
    "*   ZIP code : Postal code of the head office\n",
    "*   City : Ville du siège social\n",
    "*   Title of the request : Title of the project (s) submitted in favor of which a grant is requested\n",
    "*   Call for projects : Whether or not the request is part of a call for projects\n",
    "*   Call for Projects Policy City : Whether or not the request relates to a call for projects under City policy (co-managed with the State)\n",
    "*   Amount requested : Amount requested by the partner\n",
    "*   Funded / Unfinanced : Status of the request for a grant\n",
    "*   Amount voted by request : Amount granted by the City or the Department of Paris, knowing that in some cases, the Parisian community has pooled several projects and granted a lump sum subsidy that has been assigned to order to one of the projects because it can not detail the grant on each project specific.\n",
    "*   Total voted in 2013 : Amount voted for the request on the referenced fiscal year. This amount may be different from the \"amount voted per request\" if the application is funded over several years. These cases are rare.\n",
    "*   Operation : Decomposition of 2013 voted amount by nature of grant (Operating / Project Grants / Capital Grants / Unspecified Grants)\n",
    "*   Project Grants : Decomposition of 2013 voted amount by nature of grant (Operating / Project Grants / Capital Grants / Unspecified Grants)\n",
    "*   Equipment subsidies : Decomposition of 2013 voted amount by nature of grant (Operating / Project Grants / Capital Grants / Unspecified Grants)\n",
    "*   Subsidies without specified nature : Decomposition of 2013 voted amount by nature of grant (Operating / Project Grants / Capital Grants / Unspecified Grants)\n",
    "*   S-PR-SIMPA number : Request reference - internal identifier\n",
    "*   Year : Year of taking into account the request"
   ]
  },
  {
   "cell_type": "markdown",
   "metadata": {},
   "source": [
    "## Metric definition"
   ]
  },
  {
   "cell_type": "markdown",
   "metadata": {},
   "source": [
    "We have used the precision as a metric because in our case the distribution of classes is balanced (approximatively 50% per class), our choice was to use accuracy since that the two classes are balanced.\n",
    "We could also use Receiver Operating Characteristic (ROC) metric to see how good the algorithm handle unseen data."
   ]
  },
  {
   "cell_type": "markdown",
   "metadata": {},
   "source": [
    "### Confusion Matrix"
   ]
  },
  {
   "cell_type": "markdown",
   "metadata": {},
   "source": [
    "A clean and unambiguous way to present the prediction results of a classifier is to use a confusion matrix (also called a contingency table).\n",
    "\n",
    "For a binary classification problem the table has 2 rows and 2 columns. Across the top is the observed class labels and down the side are the predicted class labels. Each cell contains the number of predictions made by the classifier that fall into that cell.\n",
    "\n",
    "![alt text](https://3qeqpr26caki16dnhd19sv6by6v-wpengine.netdna-ssl.com/wp-content/uploads/2014/03/truth_table.png)"
   ]
  },
  {
   "cell_type": "markdown",
   "metadata": {},
   "source": [
    "### Accuracy metric"
   ]
  },
  {
   "cell_type": "markdown",
   "metadata": {},
   "source": [
    "In order to compute accuracy we are going to sum all true positives and all true negatives and divide this sum by the total number of individuals."
   ]
  },
  {
   "cell_type": "markdown",
   "metadata": {},
   "source": [
    "# Code"
   ]
  },
  {
   "cell_type": "markdown",
   "metadata": {},
   "source": [
    "## Requirements"
   ]
  },
  {
   "cell_type": "code",
   "execution_count": 4,
   "metadata": {
    "colab": {
     "autoexec": {
      "startup": false,
      "wait_interval": 0.0
     }
    },
    "colab_type": "code",
    "id": "2Zb9vScvw2ap"
   },
   "outputs": [],
   "source": [
    "from __future__ import unicode_literals\n",
    "import pandas as pd\n",
    "import numpy as np\n",
    "import nltk\n",
    "import os\n",
    "from pathlib import Path\n",
    "%matplotlib inline"
   ]
  },
  {
   "cell_type": "code",
   "execution_count": 2,
   "metadata": {
    "colab": {
     "autoexec": {
      "startup": false,
      "wait_interval": 0.0
     },
     "base_uri": "https://localhost:8080/",
     "height": 918.0,
     "output_extras": [
      {
       "item_id": 24.0
      },
      {
       "item_id": 25.0
      }
     ]
    },
    "colab_type": "code",
    "executionInfo": {
     "elapsed": 10834.0,
     "status": "ok",
     "timestamp": 1.517335198058E12,
     "user": {
      "displayName": "Mariano MS",
      "photoUrl": "//lh5.googleusercontent.com/-afiZ8sYBTk4/AAAAAAAAAAI/AAAAAAAAACI/ZcSnTgDyP8Y/s50-c-k-no/photo.jpg",
      "userId": "108192289572975408621"
     },
     "user_tz": -60.0
    },
    "id": "QQi_AmZSaA0V",
    "outputId": "1d705ec2-8fcb-477e-c9e5-d6f616895b81"
   },
   "outputs": [
    {
     "data": {
      "text/plain": [
       "True"
      ]
     },
     "execution_count": 2,
     "metadata": {},
     "output_type": "execute_result"
    }
   ],
   "source": [
    "nltk.download(\"popular\", quiet=True)"
   ]
  },
  {
   "cell_type": "markdown",
   "metadata": {
    "colab_type": "text",
    "id": "OUuS7PQqIh2L"
   },
   "source": [
    "## Exploratory data analysis"
   ]
  },
  {
   "cell_type": "markdown",
   "metadata": {
    "colab_type": "text",
    "id": "IpmgEKxZIlDQ"
   },
   "source": [
    "### Loading the data"
   ]
  },
  {
   "cell_type": "code",
   "execution_count": 9,
   "metadata": {
    "colab": {
     "autoexec": {
      "startup": false,
      "wait_interval": 0.0
     }
    },
    "colab_type": "code",
    "id": "CLFG9oULFFWX"
   },
   "outputs": [],
   "source": [
    "train_filename = Path('data/train.csv')\n",
    "test_filename = Path('data/test.csv')\n",
    "if train_filename.is_file() and test_filename.is_file():\n",
    "    train = pd.read_csv(train_filename, sep=';')#, encoding='utf-8')\n",
    "    test = pd.read_csv(test_filename, sep=';')#, encoding='utf-8')\n",
    "else:\n",
    "    %run train_test_generator.py    \n",
    "frames = [train, test]\n",
    "data = pd.concat(frames, axis=0)"
   ]
  },
  {
   "cell_type": "markdown",
   "metadata": {},
   "source": [
    "### Feature description"
   ]
  },
  {
   "cell_type": "markdown",
   "metadata": {
    "colab_type": "text",
    "id": "djQZRvTSRk1h"
   },
   "source": [
    "The dataset contains 26000+ instances mostly numericals and one categorical feature."
   ]
  },
  {
   "cell_type": "code",
   "execution_count": 62,
   "metadata": {},
   "outputs": [
    {
     "data": {
      "text/plain": [
       "Unnamed: 0                         26\n",
       "Anne                               26\n",
       "Nom du partenaire                  26\n",
       "Intitul de la demande              26\n",
       "Appel  projets                     26\n",
       "Montant vot par demande            18\n",
       "Fonctionnement                     14\n",
       "Subventions sur projet              4\n",
       "Subventions d'quipement             0\n",
       "Subventions sans nature spcifie     1\n",
       "Siret                              26\n",
       "CP-Adresse-Libell voie             26\n",
       "CP-Adresse-Code postal             26\n",
       "CP-Adresse-Ville                   26\n",
       "Appel  projets PolVille            26\n",
       "S-DE-Montant demand                26\n",
       "N SIMPA                            26\n",
       "y                                  26\n",
       "dtype: int64"
      ]
     },
     "execution_count": 62,
     "metadata": {},
     "output_type": "execute_result"
    }
   ],
   "source": [
    "data.count()"
   ]
  },
  {
   "cell_type": "code",
   "execution_count": 63,
   "metadata": {
    "colab": {
     "autoexec": {
      "startup": false,
      "wait_interval": 0.0
     },
     "base_uri": "https://localhost:8080/",
     "height": 238.0,
     "output_extras": [
      {
       "item_id": 1.0
      }
     ]
    },
    "colab_type": "code",
    "executionInfo": {
     "elapsed": 443.0,
     "status": "ok",
     "timestamp": 1.517334074458E12,
     "user": {
      "displayName": "Mahmoud Kobbi",
      "photoUrl": "https://lh3.googleusercontent.com/a/default-user=s128",
      "userId": "114952782155748457516"
     },
     "user_tz": -60.0
    },
    "id": "JRmymxtU4Qxe",
    "outputId": "928c0f32-d212-4509-8a56-a3b5d79856d7"
   },
   "outputs": [
    {
     "data": {
      "text/plain": [
       "Unnamed: 0                           int64\n",
       "Anne                                 int64\n",
       "Nom du partenaire                   object\n",
       "Intitul de la demande               object\n",
       "Appel  projets                      object\n",
       "Montant vot par demande            float64\n",
       "Fonctionnement                     float64\n",
       "Subventions sur projet             float64\n",
       "Subventions d'quipement            float64\n",
       "Subventions sans nature spcifie    float64\n",
       "Siret                                int64\n",
       "CP-Adresse-Libell voie              object\n",
       "CP-Adresse-Code postal             float64\n",
       "CP-Adresse-Ville                    object\n",
       "Appel  projets PolVille             object\n",
       "S-DE-Montant demand                float64\n",
       "N SIMPA                            float64\n",
       "y                                    int64\n",
       "dtype: object"
      ]
     },
     "execution_count": 63,
     "metadata": {},
     "output_type": "execute_result"
    }
   ],
   "source": [
    "data.dtypes"
   ]
  },
  {
   "cell_type": "markdown",
   "metadata": {},
   "source": [
    "### Visulazing the distribution of categorical variables"
   ]
  },
  {
   "cell_type": "markdown",
   "metadata": {},
   "source": [
    "#### Appel   projets distribution"
   ]
  },
  {
   "cell_type": "code",
   "execution_count": 64,
   "metadata": {},
   "outputs": [
    {
     "data": {
      "image/png": "[encoded data removed]",
      "text/plain": [
       "<matplotlib.figure.Figure at 0x1622f9e8>"
      ]
     },
     "metadata": {},
     "output_type": "display_data"
    }
   ],
   "source": [
    "data.groupby('Appel  projets').count()[['CP-Adresse-Code postal']].sort_values(\n",
    "    'CP-Adresse-Code postal', ascending=False).reset_index().rename(\n",
    "    columns={'CP-Adresse-Code postal': 'count'}).plot.bar(\n",
    "    x='Appel  projets', y='count', figsize=(16, 10), fontsize=18);"
   ]
  },
  {
   "cell_type": "markdown",
   "metadata": {},
   "source": [
    "#### Appel  projets PolVille distribution (yes=1 or non=0)"
   ]
  },
  {
   "cell_type": "code",
   "execution_count": 29,
   "metadata": {},
   "outputs": [
    {
     "data": {
      "image/png": "[encoded data removed]",
      "text/plain": [
       "<matplotlib.figure.Figure at 0x16c34ba8>"
      ]
     },
     "metadata": {},
     "output_type": "display_data"
    }
   ],
   "source": [
    "data.groupby('Appel  projets PolVille').count()[['CP-Adresse-Code postal']].sort_values(\n",
    "    'CP-Adresse-Code postal', ascending=False).reset_index().rename(\n",
    "    columns={'CP-Adresse-Code postal': 'count'}).plot.bar(\n",
    "    x='Appel  projets PolVille', y='count', figsize=(16, 10), fontsize=18);"
   ]
  },
  {
   "cell_type": "markdown",
   "metadata": {},
   "source": [
    "#### Adresse code postal distribution"
   ]
  },
  {
   "cell_type": "code",
   "execution_count": 65,
   "metadata": {},
   "outputs": [
    {
     "name": "stdout",
     "output_type": "stream",
     "text": [
      "17\n"
     ]
    },
    {
     "data": {
      "image/png": "[encoded data removed]",
      "text/plain": [
       "<matplotlib.figure.Figure at 0x1622f5c0>"
      ]
     },
     "metadata": {},
     "output_type": "display_data"
    }
   ],
   "source": [
    "print(len(np.unique(data['CP-Adresse-Code postal'])))\n",
    "data.groupby('CP-Adresse-Code postal').count()[['Nom du partenaire']].sort_values(\n",
    "    'Nom du partenaire', ascending=False).reset_index().rename(\n",
    "    columns={'Nom du partenaire': 'count'}).reset_index().loc[:50].plot.bar(\n",
    "    x='CP-Adresse-Code postal', y='count', figsize=(16, 10), fontsize=18);"
   ]
  },
  {
   "cell_type": "markdown",
   "metadata": {},
   "source": [
    "## Scripts"
   ]
  },
  {
   "cell_type": "markdown",
   "metadata": {},
   "source": [
    "\n",
    "### Feature extractor"
   ]
  },
  {
   "cell_type": "code",
   "execution_count": 4,
   "metadata": {},
   "outputs": [
    {
     "name": "stdout",
     "output_type": "stream",
     "text": [
      "['Unnamed: 0', 'Anne', 'Nom du partenaire', 'Intitul de la demande', 'Appel  projets', 'Montant vot par demande', 'Fonctionnement', 'Subventions sur projet', \"Subventions d'quipement\", 'Subventions sans nature spcifie', 'Siret', 'CP-Adresse-Libell voie', 'CP-Adresse-Code postal', 'CP-Adresse-Ville', 'Appel  projets PolVille', 'S-DE-Montant demand', 'N SIMPA', 'y']\n"
     ]
    },
    {
     "ename": "TypeError",
     "evalue": "no supported conversion for types: (dtype('O'),)",
     "traceback": [
      "\u001b[0;31m---------------------------------------------------------------------------\u001b[0m",
      "\u001b[0;31mTypeError\u001b[0m                                 Traceback (most recent call last)",
      "\u001b[0;32m<ipython-input-4-5e4904018780>\u001b[0m in \u001b[0;36m<module>\u001b[0;34m()\u001b[0m\n\u001b[0;32m----> 1\u001b[0;31m \u001b[0mX\u001b[0m \u001b[0;34m=\u001b[0m \u001b[0mFeatureExtractor\u001b[0m\u001b[0;34m(\u001b[0m\u001b[0;34m)\u001b[0m\u001b[0;34m.\u001b[0m\u001b[0mfit_transform\u001b[0m\u001b[0;34m(\u001b[0m\u001b[0mdata\u001b[0m\u001b[0;34m)\u001b[0m\u001b[0;34m\u001b[0m\u001b[0m\n\u001b[0m",
      "\u001b[0;32mC:\\Users\\mahmo\\PycharmProjects\\fake_news\\submissions\\starting_kit\\feature_extractor.py\u001b[0m in \u001b[0;36mfit_transform\u001b[0;34m(self, X_df, y)\u001b[0m\n\u001b[1;32m    103\u001b[0m     \u001b[0;32mdef\u001b[0m \u001b[0mfit_transform\u001b[0m\u001b[0;34m(\u001b[0m\u001b[0mself\u001b[0m\u001b[0;34m,\u001b[0m \u001b[0mX_df\u001b[0m\u001b[0;34m,\u001b[0m \u001b[0my\u001b[0m\u001b[0;34m=\u001b[0m\u001b[0mNone\u001b[0m\u001b[0;34m)\u001b[0m\u001b[0;34m:\u001b[0m\u001b[0;34m\u001b[0m\u001b[0m\n\u001b[1;32m    104\u001b[0m         \u001b[0mself\u001b[0m\u001b[0;34m.\u001b[0m\u001b[0mfit\u001b[0m\u001b[0;34m(\u001b[0m\u001b[0mX_df\u001b[0m\u001b[0;34m)\u001b[0m\u001b[0;34m\u001b[0m\u001b[0m\n\u001b[0;32m--> 105\u001b[0;31m         \u001b[0;32mreturn\u001b[0m \u001b[0mself\u001b[0m\u001b[0;34m.\u001b[0m\u001b[0mtransform\u001b[0m\u001b[0;34m(\u001b[0m\u001b[0mX_df\u001b[0m\u001b[0;34m)\u001b[0m\u001b[0;34m\u001b[0m\u001b[0m\n\u001b[0m\u001b[1;32m    106\u001b[0m \u001b[0;34m\u001b[0m\u001b[0m\n\u001b[1;32m    107\u001b[0m     \u001b[0;32mdef\u001b[0m \u001b[0mtransform\u001b[0m\u001b[0;34m(\u001b[0m\u001b[0mself\u001b[0m\u001b[0;34m,\u001b[0m \u001b[0mX_df\u001b[0m\u001b[0;34m)\u001b[0m\u001b[0;34m:\u001b[0m\u001b[0;34m\u001b[0m\u001b[0m\n",
      "\u001b[0;32mC:\\Users\\mahmo\\PycharmProjects\\fake_news\\submissions\\starting_kit\\feature_extractor.py\u001b[0m in \u001b[0;36mtransform\u001b[0;34m(self, X_df)\u001b[0m\n\u001b[1;32m    109\u001b[0m         \u001b[0mX_df\u001b[0m \u001b[0;34m=\u001b[0m \u001b[0mX_df\u001b[0m\u001b[0;34m.\u001b[0m\u001b[0mrename\u001b[0m\u001b[0;34m(\u001b[0m\u001b[0mcolumns\u001b[0m\u001b[0;34m=\u001b[0m\u001b[0;32mlambda\u001b[0m \u001b[0mx\u001b[0m\u001b[0;34m:\u001b[0m \u001b[0mx\u001b[0m\u001b[0;34m.\u001b[0m\u001b[0mdecode\u001b[0m\u001b[0;34m(\u001b[0m\u001b[0;34m'utf-8'\u001b[0m\u001b[0;34m)\u001b[0m\u001b[0;34m.\u001b[0m\u001b[0mencode\u001b[0m\u001b[0;34m(\u001b[0m\u001b[0;34m'ascii'\u001b[0m\u001b[0;34m,\u001b[0m \u001b[0merrors\u001b[0m\u001b[0;34m=\u001b[0m\u001b[0;34m'ignore'\u001b[0m\u001b[0;34m)\u001b[0m\u001b[0;34m)\u001b[0m\u001b[0;34m\u001b[0m\u001b[0m\n\u001b[1;32m    110\u001b[0m         \u001b[0mwords\u001b[0m \u001b[0;34m=\u001b[0m \u001b[0msuper\u001b[0m\u001b[0;34m(\u001b[0m\u001b[0mFeatureExtractor\u001b[0m\u001b[0;34m,\u001b[0m \u001b[0mself\u001b[0m\u001b[0;34m)\u001b[0m\u001b[0;34m.\u001b[0m\u001b[0mtransform\u001b[0m\u001b[0;34m(\u001b[0m\u001b[0mX_df\u001b[0m\u001b[0;34m[\u001b[0m\u001b[0;34m'Intitul de la demande'\u001b[0m\u001b[0;34m]\u001b[0m\u001b[0;34m)\u001b[0m\u001b[0;34m\u001b[0m\u001b[0m\n\u001b[0;32m--> 111\u001b[0;31m         \u001b[0mdata_sparse\u001b[0m \u001b[0;34m=\u001b[0m \u001b[0mcsr_matrix\u001b[0m\u001b[0;34m(\u001b[0m\u001b[0mX_df\u001b[0m\u001b[0;34m.\u001b[0m\u001b[0mdrop\u001b[0m\u001b[0;34m(\u001b[0m\u001b[0;34m[\u001b[0m\u001b[0mX_df\u001b[0m\u001b[0;34m.\u001b[0m\u001b[0mcolumns\u001b[0m\u001b[0;34m[\u001b[0m\u001b[0;36m0\u001b[0m\u001b[0;34m]\u001b[0m\u001b[0;34m,\u001b[0m \u001b[0;34m'Intitul de la demande'\u001b[0m\u001b[0;34m]\u001b[0m\u001b[0;34m,\u001b[0m \u001b[0maxis\u001b[0m\u001b[0;34m=\u001b[0m\u001b[0;34m'columns'\u001b[0m\u001b[0;34m)\u001b[0m\u001b[0;34m)\u001b[0m\u001b[0;34m\u001b[0m\u001b[0m\n\u001b[0m\u001b[1;32m    112\u001b[0m         \u001b[0;32mreturn\u001b[0m \u001b[0mnormalize\u001b[0m\u001b[0;34m(\u001b[0m\u001b[0mhstack\u001b[0m\u001b[0;34m(\u001b[0m\u001b[0;34m(\u001b[0m\u001b[0mdata_sparse\u001b[0m\u001b[0;34m,\u001b[0m \u001b[0mwords\u001b[0m\u001b[0;34m)\u001b[0m\u001b[0;34m)\u001b[0m\u001b[0;34m)\u001b[0m\u001b[0;34m\u001b[0m\u001b[0m\n\u001b[1;32m    113\u001b[0m \u001b[0;34m\u001b[0m\u001b[0m\n",
      "\u001b[0;32mc:\\users\\mahmo\\venv\\fake_news\\lib\\site-packages\\scipy\\sparse\\compressed.pyc\u001b[0m in \u001b[0;36m__init__\u001b[0;34m(self, arg1, shape, dtype, copy)\u001b[0m\n\u001b[1;32m     77\u001b[0m                         self.format)\n\u001b[1;32m     78\u001b[0m             \u001b[0;32mfrom\u001b[0m \u001b[0;34m.\u001b[0m\u001b[0mcoo\u001b[0m \u001b[0;32mimport\u001b[0m \u001b[0mcoo_matrix\u001b[0m\u001b[0;34m\u001b[0m\u001b[0m\n\u001b[0;32m---> 79\u001b[0;31m             \u001b[0mself\u001b[0m\u001b[0;34m.\u001b[0m\u001b[0m_set_self\u001b[0m\u001b[0;34m(\u001b[0m\u001b[0mself\u001b[0m\u001b[0;34m.\u001b[0m\u001b[0m__class__\u001b[0m\u001b[0;34m(\u001b[0m\u001b[0mcoo_matrix\u001b[0m\u001b[0;34m(\u001b[0m\u001b[0marg1\u001b[0m\u001b[0;34m,\u001b[0m \u001b[0mdtype\u001b[0m\u001b[0;34m=\u001b[0m\u001b[0mdtype\u001b[0m\u001b[0;34m)\u001b[0m\u001b[0;34m)\u001b[0m\u001b[0;34m)\u001b[0m\u001b[0;34m\u001b[0m\u001b[0m\n\u001b[0m\u001b[1;32m     80\u001b[0m \u001b[0;34m\u001b[0m\u001b[0m\n\u001b[1;32m     81\u001b[0m         \u001b[0;31m# Read matrix dimensions given, if any\u001b[0m\u001b[0;34m\u001b[0m\u001b[0;34m\u001b[0m\u001b[0m\n",
      "\u001b[0;32mc:\\users\\mahmo\\venv\\fake_news\\lib\\site-packages\\scipy\\sparse\\compressed.pyc\u001b[0m in \u001b[0;36m__init__\u001b[0;34m(self, arg1, shape, dtype, copy)\u001b[0m\n\u001b[1;32m     30\u001b[0m                 \u001b[0marg1\u001b[0m \u001b[0;34m=\u001b[0m \u001b[0marg1\u001b[0m\u001b[0;34m.\u001b[0m\u001b[0mcopy\u001b[0m\u001b[0;34m(\u001b[0m\u001b[0;34m)\u001b[0m\u001b[0;34m\u001b[0m\u001b[0m\n\u001b[1;32m     31\u001b[0m             \u001b[0;32melse\u001b[0m\u001b[0;34m:\u001b[0m\u001b[0;34m\u001b[0m\u001b[0m\n\u001b[0;32m---> 32\u001b[0;31m                 \u001b[0marg1\u001b[0m \u001b[0;34m=\u001b[0m \u001b[0marg1\u001b[0m\u001b[0;34m.\u001b[0m\u001b[0masformat\u001b[0m\u001b[0;34m(\u001b[0m\u001b[0mself\u001b[0m\u001b[0;34m.\u001b[0m\u001b[0mformat\u001b[0m\u001b[0;34m)\u001b[0m\u001b[0;34m\u001b[0m\u001b[0m\n\u001b[0m\u001b[1;32m     33\u001b[0m             \u001b[0mself\u001b[0m\u001b[0;34m.\u001b[0m\u001b[0m_set_self\u001b[0m\u001b[0;34m(\u001b[0m\u001b[0marg1\u001b[0m\u001b[0;34m)\u001b[0m\u001b[0;34m\u001b[0m\u001b[0m\n\u001b[1;32m     34\u001b[0m \u001b[0;34m\u001b[0m\u001b[0m\n",
      "\u001b[0;32mc:\\users\\mahmo\\venv\\fake_news\\lib\\site-packages\\scipy\\sparse\\base.pyc\u001b[0m in \u001b[0;36masformat\u001b[0;34m(self, format)\u001b[0m\n\u001b[1;32m    285\u001b[0m             \u001b[0;32mreturn\u001b[0m \u001b[0mself\u001b[0m\u001b[0;34m\u001b[0m\u001b[0m\n\u001b[1;32m    286\u001b[0m         \u001b[0;32melse\u001b[0m\u001b[0;34m:\u001b[0m\u001b[0;34m\u001b[0m\u001b[0m\n\u001b[0;32m--> 287\u001b[0;31m             \u001b[0;32mreturn\u001b[0m \u001b[0mgetattr\u001b[0m\u001b[0;34m(\u001b[0m\u001b[0mself\u001b[0m\u001b[0;34m,\u001b[0m \u001b[0;34m'to'\u001b[0m \u001b[0;34m+\u001b[0m \u001b[0mformat\u001b[0m\u001b[0;34m)\u001b[0m\u001b[0;34m(\u001b[0m\u001b[0;34m)\u001b[0m\u001b[0;34m\u001b[0m\u001b[0m\n\u001b[0m\u001b[1;32m    288\u001b[0m \u001b[0;34m\u001b[0m\u001b[0m\n\u001b[1;32m    289\u001b[0m     \u001b[0;31m###################################################################\u001b[0m\u001b[0;34m\u001b[0m\u001b[0;34m\u001b[0m\u001b[0m\n",
      "\u001b[0;32mc:\\users\\mahmo\\venv\\fake_news\\lib\\site-packages\\scipy\\sparse\\coo.pyc\u001b[0m in \u001b[0;36mtocsr\u001b[0;34m(self, copy)\u001b[0m\n\u001b[1;32m    340\u001b[0m             \u001b[0mindptr\u001b[0m \u001b[0;34m=\u001b[0m \u001b[0mnp\u001b[0m\u001b[0;34m.\u001b[0m\u001b[0mempty\u001b[0m\u001b[0;34m(\u001b[0m\u001b[0mM\u001b[0m \u001b[0;34m+\u001b[0m \u001b[0;36m1\u001b[0m\u001b[0;34m,\u001b[0m \u001b[0mdtype\u001b[0m\u001b[0;34m=\u001b[0m\u001b[0midx_dtype\u001b[0m\u001b[0;34m)\u001b[0m\u001b[0;34m\u001b[0m\u001b[0m\n\u001b[1;32m    341\u001b[0m             \u001b[0mindices\u001b[0m \u001b[0;34m=\u001b[0m \u001b[0mnp\u001b[0m\u001b[0;34m.\u001b[0m\u001b[0mempty_like\u001b[0m\u001b[0;34m(\u001b[0m\u001b[0mcol\u001b[0m\u001b[0;34m,\u001b[0m \u001b[0mdtype\u001b[0m\u001b[0;34m=\u001b[0m\u001b[0midx_dtype\u001b[0m\u001b[0;34m)\u001b[0m\u001b[0;34m\u001b[0m\u001b[0m\n\u001b[0;32m--> 342\u001b[0;31m             \u001b[0mdata\u001b[0m \u001b[0;34m=\u001b[0m \u001b[0mnp\u001b[0m\u001b[0;34m.\u001b[0m\u001b[0mempty_like\u001b[0m\u001b[0;34m(\u001b[0m\u001b[0mself\u001b[0m\u001b[0;34m.\u001b[0m\u001b[0mdata\u001b[0m\u001b[0;34m,\u001b[0m \u001b[0mdtype\u001b[0m\u001b[0;34m=\u001b[0m\u001b[0mupcast\u001b[0m\u001b[0;34m(\u001b[0m\u001b[0mself\u001b[0m\u001b[0;34m.\u001b[0m\u001b[0mdtype\u001b[0m\u001b[0;34m)\u001b[0m\u001b[0;34m)\u001b[0m\u001b[0;34m\u001b[0m\u001b[0m\n\u001b[0m\u001b[1;32m    343\u001b[0m \u001b[0;34m\u001b[0m\u001b[0m\n\u001b[1;32m    344\u001b[0m             coo_tocsr(M, N, self.nnz, row, col, self.data,\n",
      "\u001b[0;32mc:\\users\\mahmo\\venv\\fake_news\\lib\\site-packages\\scipy\\sparse\\sputils.pyc\u001b[0m in \u001b[0;36mupcast\u001b[0;34m(*args)\u001b[0m\n\u001b[1;32m     49\u001b[0m             \u001b[0;32mreturn\u001b[0m \u001b[0mt\u001b[0m\u001b[0;34m\u001b[0m\u001b[0m\n\u001b[1;32m     50\u001b[0m \u001b[0;34m\u001b[0m\u001b[0m\n\u001b[0;32m---> 51\u001b[0;31m     \u001b[0;32mraise\u001b[0m \u001b[0mTypeError\u001b[0m\u001b[0;34m(\u001b[0m\u001b[0;34m'no supported conversion for types: %r'\u001b[0m \u001b[0;34m%\u001b[0m \u001b[0;34m(\u001b[0m\u001b[0margs\u001b[0m\u001b[0;34m,\u001b[0m\u001b[0;34m)\u001b[0m\u001b[0;34m)\u001b[0m\u001b[0;34m\u001b[0m\u001b[0m\n\u001b[0m\u001b[1;32m     52\u001b[0m \u001b[0;34m\u001b[0m\u001b[0m\n\u001b[1;32m     53\u001b[0m \u001b[0;34m\u001b[0m\u001b[0m\n",
      "\u001b[0;31mTypeError\u001b[0m: no supported conversion for types: (dtype('O'),)"
     ],
     "output_type": "error"
    }
   ],
   "source": [
    "%%file submissions/starting_kit/feature_extractor.py\n",
    "# -*- coding: utf-8 -*-\n",
    "\n",
    "from __future__ import unicode_literals\n",
    "\n",
    "import string\n",
    "import unicodedata\n",
    "import urllib\n",
    "from sklearn.preprocessing import normalize\n",
    "import scipy\n",
    "import nltk\n",
    "from sklearn.feature_extraction.text import TfidfVectorizer\n",
    "\n",
    "\n",
    "def stopword_loader(\n",
    "        url=\"https://raw.githubusercontent.com/mkobbi/subvention-status-datacamp/master/data/stopwords-filter-fr.txt\"):\n",
    "    try:\n",
    "        stopwords = str(urllib.urlopen(url).read().decode(\"utf-8\").lower())\n",
    "        stopwords = set(stopwords.split('\\n'))\n",
    "        return stopwords\n",
    "    except IOError:\n",
    "        print('Failed to open \"%s\".', url)\n",
    "\n",
    "\n",
    "def document_preprocessor(doc):\n",
    "    \"\"\" A custom document preprocessor\n",
    "\n",
    "    This function can be edited to add some additional\n",
    "    transformation on the documents prior to tokenization.\n",
    "\n",
    "    \"\"\"\n",
    "    try:\n",
    "        doc = unicode(doc, 'utf-8')\n",
    "    except NameError:  # unicode is a default on python 3\n",
    "        pass\n",
    "    doc = unicodedata.normalize('NFKD', doc)\n",
    "    doc = doc.encode('ascii', 'ignore')\n",
    "    doc = doc.decode(\"utf-8\")\n",
    "    return str(doc).lower()\n",
    "\n",
    "\n",
    "# def generate_tokens\n",
    "\n",
    "\n",
    "def token_processor(sentence):\n",
    "    \"\"\" A custom token processor\n",
    "\n",
    "    This function can be edited to add some additional\n",
    "    transformation on the extracted tokens (e.g. stemming)\n",
    "\n",
    "    At present, this function just passes the tokens through.\n",
    "    \"\"\"\n",
    "    stopwords = stopword_loader()\n",
    "    punctuation = set(string.punctuation)\n",
    "    punctuation.update([\"``\", \"`\", \"...\"])\n",
    "    stemmer = nltk.stem.snowball.FrenchStemmer()\n",
    "    stemmed_tokens = list((filter(lambda x: x not in stopwords and x not in punctuation,\n",
    "                                  [stemmer.stem(t)\n",
    "                                   for t in nltk.word_tokenize(sentence, 'french', False)\n",
    "                                   if t.isalpha()])))\n",
    "    for t in stemmed_tokens:\n",
    "        yield t\n",
    "\n",
    "\n",
    "def cleanDataset(data):\n",
    "    fr_stopwords_url = \"https://raw.githubusercontent.com/mkobbi/subvention-status-datacamp/master/data/stopwords-filter-fr.txt\"\n",
    "    string_columns = ['Nom du partenaire']  # [\"Intitul de la demande\"]\n",
    "    to_drop_columns = [\"Anne\", \"Siret\", \"N SIMPA\", 'CP-Adresse-Libell voie', \"CP-Adresse-Ville\"]\n",
    "    str_categorical_columns = [\"Nom du partenaire\", \"Appel  projets\", \"Appel  projets PolVille\"]\n",
    "    num_categorical_columns = [\"Anne\", \"CP-Adresse-Code postal\"]\n",
    "    num_categorical_columns = [\"CP-Adresse-Code postal\"]\n",
    "    data = data.fillna(value=0, axis='columns')\n",
    "    data[string_columns] = data[string_columns].apply(\n",
    "        lambda x: x.str.upper().str.normalize('NFKD').str.encode('ascii', errors='ignore').str.decode('utf-8'))\n",
    "    data[str_categorical_columns] = data[str_categorical_columns].apply(lambda x: x.astype('category').cat.codes)\n",
    "    data[num_categorical_columns] = data[num_categorical_columns].apply(\n",
    "        lambda x: x.astype('int'))  # .astype('category'))\n",
    "    fr_stopwords = urllib.urlopen(fr_stopwords_url).read().decode(\"utf-8\").upper()\n",
    "    fr_stopwords = fr_stopwords.split('\\n')\n",
    "    # y = np.ravel(pd.DataFrame([data['Total vot'] > 0.0]).astype(int))\n",
    "    # y = np.ravel(data.pop('y').values)\n",
    "    data = data.drop(to_drop_columns, axis='columns')\n",
    "    return data\n",
    "\n",
    "\n",
    "class FeatureExtractor(TfidfVectorizer):\n",
    "    \"\"\"Convert a collection of raw docs to a matrix of TF-IDF features. \"\"\"\n",
    "\n",
    "    def __init__(self):\n",
    "        # see ``TfidfVectorizer`` documentation for other feature\n",
    "        # extraction parameters.\n",
    "        super(FeatureExtractor, self).__init__(strip_accents='unicode',\n",
    "                                               stop_words=stopword_loader(), analyzer='word')\n",
    "\n",
    "    def fit(self, X_df, y=None):\n",
    "        \"\"\"Learn a vocabulary dictionary of all tokens in the raw documents.\n",
    "\n",
    "        Parameters\n",
    "        ----------\n",
    "        X_df : pandas.DataFrame\n",
    "            a DataFrame, where the text data is stored in the ``Intitul de la demande``\n",
    "            column.\n",
    "        \"\"\"\n",
    "        X_df = cleanDataset(X_df)\n",
    "        super(FeatureExtractor, self).fit(X_df)\n",
    "        return self\n",
    "\n",
    "    def fit_transform(self, X_df, y=None):\n",
    "        self.fit(X_df)\n",
    "        return self.transform(X_df)\n",
    "\n",
    "    def transform(self, X_df):\n",
    "        # print \"transform X_df=\"\n",
    "        # print X_df\n",
    "        # print \"transform new=\"\n",
    "        X_df = cleanDataset(X_df)\n",
    "        words = super(FeatureExtractor, self).transform(X_df['Intitul de la demande'])\n",
    "\n",
    "        X_df = X_df.drop(['Intitul de la demande'], axis='columns')\n",
    "        data_sparse = scipy.sparse.csr_matrix(X_df.values[:, 1:])\n",
    "        X = normalize(scipy.sparse.hstack((data_sparse, words)))\n",
    "        return X\n",
    "\n",
    "    def build_tokenizer(self):\n",
    "        \"\"\"\n",
    "        Internal function, needed to plug-in the token processor, cf.\n",
    "        http://scikit-learn.org/stable/modules/feature_extraction.html#customizing-the-vectorizer-classes\n",
    "        \"\"\"\n",
    "        tokenize = super(FeatureExtractor, self).build_tokenizer()\n",
    "        return lambda doc: token_processor(doc)\n"
   ]
  },
  {
   "cell_type": "markdown",
   "metadata": {},
   "source": [
    "### Classifier"
   ]
  },
  {
   "cell_type": "code",
   "execution_count": null,
   "metadata": {},
   "outputs": [],
   "source": [
    "%%file submissions/starting_kit/classifier.py\n",
    "# -*- coding: utf-8 -*-\n",
    "from sklearn.base import BaseEstimator\n",
    "from sklearn.ensemble import RandomForestClassifier\n",
    "\n",
    "\n",
    "class Classifier(BaseEstimator):\n",
    "    def __init__(self):\n",
    "        self.clf = RandomForestClassifier(n_jobs=-1)\n",
    "\n",
    "    def fit(self, X, y):\n",
    "        self.clf.fit(X.todense(), y)\n",
    "\n",
    "    def predict(self, X):\n",
    "        return self.clf.predict(X.todense())\n",
    "\n",
    "    def predict_proba(self, X):\n",
    "        return self.clf.predict_proba(X)\n"
   ]
  },
  {
   "cell_type": "code",
   "execution_count": 6,
   "metadata": {},
   "outputs": [
    {
     "data": {
      "text/plain": [
       "1"
      ]
     },
     "execution_count": 6,
     "metadata": {},
     "output_type": "execute_result"
    }
   ],
   "source": [
    "!ramp_test_submission --quick-test"
   ]
  }
 ],
 "metadata": {
  "colab": {
   "default_view": {},
   "name": "jmamani_medeboub_mkobbi-data_camp.ipynb",
   "provenance": [],
   "version": "0.3.2",
   "views": {}
  },
  "kernelspec": {
   "display_name": "Python 2",
   "language": "python",
   "name": "python2"
  },
  "language_info": {
   "codemirror_mode": {
    "name": "ipython",
    "version": 2
   },
   "file_extension": ".py",
   "mimetype": "text/x-python",
   "name": "python",
   "nbconvert_exporter": "python",
   "pygments_lexer": "ipython2",
   "version": "2.7.14"
  }
 },
 "nbformat": 4,
 "nbformat_minor": 1
}
