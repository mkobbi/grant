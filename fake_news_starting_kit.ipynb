{
 "cells": [
  {
   "cell_type": "code",
   "execution_count": 39,
   "metadata": {
    "colab": {
     "autoexec": {
      "startup": false,
      "wait_interval": 0.0
     }
    },
    "colab_type": "code",
    "collapsed": true,
    "id": "2Zb9vScvw2ap"
   },
   "outputs": [],
   "source": [
    "from __future__ import unicode_literals\n",
    "from sklearn.model_selection import train_test_split\n",
    "from sklearn.preprocessing import normalize\n",
    "from sklearn.metrics import accuracy_score\n",
    "from sklearn.svm import SVC\n",
    "import pandas as pd\n",
    "import numpy as np\n",
    "import nltk\n",
    "import scipy\n",
    "import urllib\n",
    "from pathlib import Path \n",
    "%matplotlib inline"
   ]
  },
  {
   "cell_type": "code",
   "execution_count": 40,
   "metadata": {
    "colab": {
     "autoexec": {
      "startup": false,
      "wait_interval": 0.0
     },
     "base_uri": "https://localhost:8080/",
     "height": 918.0,
     "output_extras": [
      {
       "item_id": 24.0
      },
      {
       "item_id": 25.0
      }
     ]
    },
    "colab_type": "code",
    "executionInfo": {
     "elapsed": 10834.0,
     "status": "ok",
     "timestamp": 1.517335198058E12,
     "user": {
      "displayName": "Mariano MS",
      "photoUrl": "//lh5.googleusercontent.com/-afiZ8sYBTk4/AAAAAAAAAAI/AAAAAAAAACI/ZcSnTgDyP8Y/s50-c-k-no/photo.jpg",
      "userId": "108192289572975408621"
     },
     "user_tz": -60.0
    },
    "id": "QQi_AmZSaA0V",
    "outputId": "1d705ec2-8fcb-477e-c9e5-d6f616895b81"
   },
   "outputs": [
    {
     "data": {
      "text/plain": [
       "True"
      ]
     },
     "execution_count": 40,
     "metadata": {},
     "output_type": "execute_result"
    }
   ],
   "source": [
    "nltk.download(\"popular\", quiet=True)"
   ]
  },
  {
   "cell_type": "markdown",
   "metadata": {
    "colab_type": "text",
    "id": "OUuS7PQqIh2L"
   },
   "source": [
    "## Exploratory data analysis"
   ]
  },
  {
   "cell_type": "markdown",
   "metadata": {
    "colab_type": "text",
    "id": "IpmgEKxZIlDQ"
   },
   "source": [
    "###Loading the data"
   ]
  },
  {
   "cell_type": "code",
   "execution_count": 118,
   "metadata": {
    "colab": {
     "autoexec": {
      "startup": false,
      "wait_interval": 0.0
     }
    },
    "colab_type": "code",
    "id": "CLFG9oULFFWX"
   },
   "outputs": [],
   "source": [
    "train_filename = Path('data/train.csv')\n",
    "test_filename = Path('data/test.csv')\n",
    "if train_filename.is_file() and test_filename.is_file():\n",
    "    train = pd.read_csv(train_filename, sep=';', encoding='utf-8')\n",
    "    test = pd.read_csv(test_filename, sep=';', encoding='utf-8')\n",
    "else:\n",
    "    %run train_test_generator.py    \n",
    "frames = [train, test]\n",
    "data = pd.concat(frames, axis=0)\n",
    "fr_stopwords_url = \"https://raw.githubusercontent.com/mkobbi/subvention-status-datacamp/master/data/stopwords-filter-fr.txt\"\n",
    "data = data.rename(columns=lambda x: x.decode('utf-8').encode('ascii', errors ='ignore'))"
   ]
  },
  {
   "cell_type": "code",
   "execution_count": 119,
   "metadata": {
    "colab": {
     "autoexec": {
      "startup": false,
      "wait_interval": 0.0
     },
     "base_uri": "https://localhost:8080/",
     "height": 459.0,
     "output_extras": [
      {
       "item_id": 1.0
      }
     ]
    },
    "colab_type": "code",
    "executionInfo": {
     "elapsed": 1244.0,
     "status": "ok",
     "timestamp": 1.517335222917E12,
     "user": {
      "displayName": "Mariano MS",
      "photoUrl": "//lh5.googleusercontent.com/-afiZ8sYBTk4/AAAAAAAAAAI/AAAAAAAAACI/ZcSnTgDyP8Y/s50-c-k-no/photo.jpg",
      "userId": "108192289572975408621"
     },
     "user_tz": -60.0
    },
    "id": "ct6QRKb3323V",
    "outputId": "b69129f8-26ac-4782-83c7-cdbeb9f062b3"
   },
   "outputs": [],
   "source": [
    "string_columns = [\"Nom du partenaire\", 'Intitul de la demande']\n",
    "to_drop_columns = [\"Anne\", \"Siret\", \"N SIMPA\", 'CP-Adresse-Libell voie', \"CP-Adresse-Ville\"] \n",
    "str_categorical_columns = [\"Nom du partenaire\", \"Appel  projets\",\"Appel  projets PolVille\"]\n",
    "num_categorical_columns = [\"Anne\", \"CP-Adresse-Code postal\"]\n",
    "num_categorical_columns = [\"CP-Adresse-Code postal\"]\n",
    "data = data.fillna(value=0, axis='columns')\n",
    "data[string_columns] = data[string_columns].apply(lambda x: x.str.upper().str.normalize('NFKD').str.encode('ascii', errors='ignore').str.decode('utf-8'))\n",
    "data[str_categorical_columns] = data[str_categorical_columns].apply(lambda x: x.astype('category').cat.codes)\n",
    "data[num_categorical_columns] = data[num_categorical_columns].apply(lambda x: x.astype('int'))#.astype('category'))\n",
    "fr_stopwords = urllib.urlopen(fr_stopwords_url).read().decode(\"utf-8\").upper()\n",
    "fr_stopwords = fr_stopwords.split('\\n')\n",
    "#y = np.ravel(pd.DataFrame([data['Total vot'] > 0.0]).astype(int))\n",
    "y = np.ravel(data['y'])\n",
    "data = data.drop(to_drop_columns, axis='columns')"
   ]
  },
  {
   "cell_type": "code",
   "execution_count": 120,
   "metadata": {
    "colab": {
     "autoexec": {
      "startup": false,
      "wait_interval": 0.0
     }
    },
    "colab_type": "code",
    "collapsed": true,
    "id": "RtY_MAMZOvFk"
   },
   "outputs": [
    {
     "name": "stdout",
     "output_type": "stream",
     "text": [
      "[   0    1    2 ... 6066 6067 6068]\n6069\n"
     ]
    }
   ],
   "source": [
    "print(np.unique(data['Nom du partenaire']))\n",
    "print(len(np.unique(data['Nom du partenaire'])))"
   ]
  },
  {
   "cell_type": "code",
   "execution_count": 121,
   "metadata": {
    "colab": {
     "autoexec": {
      "startup": false,
      "wait_interval": 0.0
     },
     "base_uri": "https://localhost:8080/",
     "height": 238.0,
     "output_extras": [
      {
       "item_id": 1.0
      }
     ]
    },
    "colab_type": "code",
    "collapsed": true,
    "executionInfo": {
     "elapsed": 443.0,
     "status": "ok",
     "timestamp": 1.517334074458E12,
     "user": {
      "displayName": "Mahmoud Kobbi",
      "photoUrl": "https://lh3.googleusercontent.com/a/default-user=s128",
      "userId": "114952782155748457516"
     },
     "user_tz": -60.0
    },
    "id": "JRmymxtU4Qxe",
    "outputId": "928c0f32-d212-4509-8a56-a3b5d79856d7"
   },
   "outputs": [
    {
     "data": {
      "text/plain": [
       "Unnamed: 0                           int64\nNom du partenaire                    int16\nIntitul de la demande               object\nAppel  projets                        int8\nMontant vot par demande            float64\nFonctionnement                     float64\nSubventions sur projet             float64\nSubventions d'quipement            float64\nSubventions sans nature spcifie    float64\nCP-Adresse-Code postal               int32\nAppel  projets PolVille               int8\nS-DE-Montant demand                float64\ny                                    int64\ndtype: object"
      ]
     },
     "execution_count": 121,
     "metadata": {},
     "output_type": "execute_result"
    }
   ],
   "source": [
    "data.dtypes"
   ]
  },
  {
   "cell_type": "code",
   "execution_count": 122,
   "metadata": {
    "colab": {
     "autoexec": {
      "startup": false,
      "wait_interval": 0.0
     }
    },
    "colab_type": "code",
    "collapsed": true,
    "id": "ajvlU1C1ghla"
   },
   "outputs": [],
   "source": [
    "stemmer = nltk.stem.snowball.FrenchStemmer()\n",
    "data['stemmed'] = data['Intitul de la demande'].map(lambda x: ' '.join([stemmer.stem(y) for y in x.split(' ')]))"
   ]
  },
  {
   "cell_type": "code",
   "execution_count": 123,
   "metadata": {
    "colab": {
     "autoexec": {
      "startup": false,
      "wait_interval": 0.0
     }
    },
    "colab_type": "code",
    "collapsed": true,
    "id": "ZjNRJw8oieBB"
   },
   "outputs": [],
   "source": [
    "from sklearn.feature_extraction.text import TfidfVectorizer\n",
    "\n",
    "vect = TfidfVectorizer(norm='l2', min_df=0, max_df=1, use_idf=True, smooth_idf=True,\n",
    "                       sublinear_tf=True, stop_words=fr_stopwords, analyzer='word')\n",
    "words = vect.fit_transform(data.stemmed)\n",
    "#words = pd.DataFrame(words.todense())\n",
    "#df = df.loc[~df.index.duplicated(keep='first')]\n",
    "#print(words.shape, list(data))\n",
    "#data = pd.concat([data, words], axis='columns')\n",
    "data = data.drop(['Intitul de la demande', 'stemmed'], axis='columns')"
   ]
  },
  {
   "cell_type": "code",
   "execution_count": 131,
   "metadata": {
    "colab": {
     "autoexec": {
      "startup": false,
      "wait_interval": 0.0
     }
    },
    "colab_type": "code",
    "collapsed": true,
    "id": "DFoqUYQ97mEx"
   },
   "outputs": [],
   "source": [
    "data_sparse = scipy.sparse.csr_matrix(data.values[:,1:])\n",
    "X = normalize(scipy.sparse.hstack((data_sparse, words)))"
   ]
  },
  {
   "cell_type": "code",
   "execution_count": 132,
   "metadata": {
    "colab": {
     "autoexec": {
      "startup": false,
      "wait_interval": 0.0
     }
    },
    "colab_type": "code",
    "collapsed": true,
    "id": "pAS20qDDHdES"
   },
   "outputs": [
    {
     "name": "stdout",
     "output_type": "stream",
     "text": [
      "((26273, 5747), (26273L,))\n"
     ]
    }
   ],
   "source": [
    "print(X.shape, y.shape)"
   ]
  },
  {
   "cell_type": "code",
   "execution_count": 133,
   "metadata": {
    "colab": {
     "autoexec": {
      "startup": false,
      "wait_interval": 0.0
     }
    },
    "colab_type": "code",
    "collapsed": true,
    "id": "JmUuny8b-14Z"
   },
   "outputs": [],
   "source": [
    "X_train, X_test, y_train, y_test = train_test_split(X, y, test_size=0.1, random_state=42)"
   ]
  },
  {
   "cell_type": "markdown",
   "metadata": {
    "colab_type": "text",
    "id": "7wwcku-tJrhd"
   },
   "source": [
    "## Classifying"
   ]
  },
  {
   "cell_type": "code",
   "execution_count": 135,
   "metadata": {
    "colab": {
     "autoexec": {
      "startup": false,
      "wait_interval": 0.0
     },
     "base_uri": "https://localhost:8080/",
     "height": 34.0,
     "output_extras": [
      {
       "item_id": 1.0
      }
     ]
    },
    "colab_type": "code",
    "collapsed": true,
    "executionInfo": {
     "elapsed": 9939.0,
     "status": "ok",
     "timestamp": 1.517334387372E12,
     "user": {
      "displayName": "Mahmoud Kobbi",
      "photoUrl": "https://lh3.googleusercontent.com/a/default-user=s128",
      "userId": "114952782155748457516"
     },
     "user_tz": -60.0
    },
    "id": "vfut30fvJiHU",
    "outputId": "df9f8d02-f8da-4e04-a508-bfa8362584b3"
   },
   "outputs": [],
   "source": [
    "clf = SVC(kernel='linear', class_weight='balanced', random_state=42)\n",
    "clf.fit(X_train, y_train)\n",
    "y_pred = clf.predict(X_test)"
   ]
  },
  {
   "cell_type": "code",
   "execution_count": 136,
   "metadata": {
    "colab": {
     "autoexec": {
      "startup": false,
      "wait_interval": 0.0
     },
     "base_uri": "https://localhost:8080/",
     "height": 34.0,
     "output_extras": [
      {
       "item_id": 1.0
      }
     ]
    },
    "colab_type": "code",
    "collapsed": true,
    "executionInfo": {
     "elapsed": 468.0,
     "status": "ok",
     "timestamp": 1.517334387872E12,
     "user": {
      "displayName": "Mahmoud Kobbi",
      "photoUrl": "https://lh3.googleusercontent.com/a/default-user=s128",
      "userId": "114952782155748457516"
     },
     "user_tz": -60.0
    },
    "id": "1QNADnhIKeXX",
    "outputId": "18b12265-e857-4f3f-adb8-d70bad41554d"
   },
   "outputs": [
    {
     "data": {
      "text/plain": [
       "0.6872146118721462"
      ]
     },
     "execution_count": 136,
     "metadata": {},
     "output_type": "execute_result"
    }
   ],
   "source": [
    "accuracy_score(y_test, y_pred)"
   ]
  },
  {
   "cell_type": "code",
   "execution_count": null,
   "metadata": {
    "colab": {
     "autoexec": {
      "startup": false,
      "wait_interval": 0.0
     },
     "base_uri": "https://localhost:8080/",
     "height": 331.0,
     "output_extras": [
      {
       "item_id": 1.0
      }
     ]
    },
    "colab_type": "code",
    "collapsed": true,
    "executionInfo": {
     "elapsed": 515.0,
     "status": "ok",
     "timestamp": 1.517291563051E12,
     "user": {
      "displayName": "Mariano MS",
      "photoUrl": "//lh5.googleusercontent.com/-afiZ8sYBTk4/AAAAAAAAAAI/AAAAAAAAACI/ZcSnTgDyP8Y/s50-c-k-no/photo.jpg",
      "userId": "108192289572975408621"
     },
     "user_tz": -60.0
    },
    "id": "RhXsI9IzJAjf",
    "outputId": "4a008d65-6a78-4d80-8cc3-53b19d6d7399"
   },
   "outputs": [],
   "source": [
    "data.describe()"
   ]
  },
  {
   "cell_type": "code",
   "execution_count": 129,
   "metadata": {
    "colab": {
     "autoexec": {
      "startup": false,
      "wait_interval": 0.0
     },
     "base_uri": "https://localhost:8080/",
     "height": 255.0,
     "output_extras": [
      {
       "item_id": 1.0
      }
     ]
    },
    "colab_type": "code",
    "collapsed": true,
    "executionInfo": {
     "elapsed": 486.0,
     "status": "ok",
     "timestamp": 1.517184939715E12,
     "user": {
      "displayName": "Mehdi Deboub",
      "photoUrl": "https://lh3.googleusercontent.com/a/default-user=s128",
      "userId": "100681901679161707676"
     },
     "user_tz": -60.0
    },
    "id": "CKXIcuwHQxKT",
    "outputId": "3efb9506-6a08-4482-f682-f6fb04aaf77f"
   },
   "outputs": [
    {
     "data": {
      "text/plain": [
       "Unnamed: 0                         26273\nNom du partenaire                  26273\nAppel  projets                     26273\nMontant vot par demande            26273\nFonctionnement                     26273\nSubventions sur projet             26273\nSubventions d'quipement            26273\nSubventions sans nature spcifie    26273\nCP-Adresse-Code postal             26273\nAppel  projets PolVille            26273\nS-DE-Montant demand                26273\ny                                  26273\ndtype: int64"
      ]
     },
     "execution_count": 129,
     "metadata": {},
     "output_type": "execute_result"
    }
   ],
   "source": [
    "data.count()"
   ]
  },
  {
   "cell_type": "markdown",
   "metadata": {
    "colab_type": "text",
    "id": "djQZRvTSRk1h"
   },
   "source": [
    "The dataset contains 26000+ instances mostly numericals and one categorical feature."
   ]
  }
 ],
 "metadata": {
  "colab": {
   "default_view": {},
   "name": "jmamani_medeboub_mkobbi-data_camp.ipynb",
   "provenance": [],
   "version": "0.3.2",
   "views": {}
  },
  "kernelspec": {
   "display_name": "Python 2",
   "language": "python",
   "name": "python2"
  },
  "language_info": {
   "codemirror_mode": {
    "name": "ipython",
    "version": 2
   },
   "file_extension": ".py",
   "mimetype": "text/x-python",
   "name": "python",
   "nbconvert_exporter": "python",
   "pygments_lexer": "ipython2",
   "version": "2.7.14"
  }
 },
 "nbformat": 4,
 "nbformat_minor": 1
}
